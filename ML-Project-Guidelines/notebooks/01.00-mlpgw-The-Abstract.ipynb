{
 "cells": [
  {
   "cell_type": "markdown",
   "id": "f36f4fcb-9542-4ae6-9419-5afd2aae21d8",
   "metadata": {},
   "source": [
    "<!--BOOK_INFORMATION-->\n",
    "<img align=\"left\" style=\"padding-right:10px;\" src=\"figures/MLPG-Book-Cover-Small.png\"><br>\n",
    "\n",
    "This notebook contains an excerpt from the **`Machine Learning Project Guidelines - For Beginners`** whitepaper written by *Balasubramanian Chandran*; the content is available [on GitHub](https://github.com/BalaChandranGH/Whitepapers/ML-Project-Guidelines)."
   ]
  },
  {
   "cell_type": "markdown",
   "id": "ff9b6351-c01f-4f7e-86c1-2e3a069e4027",
   "metadata": {},
   "source": [
    "<br>\n",
    "<!--NAVIGATION-->\n",
    "\n",
    "<[ [Contents and Acronyms](00.00-mlpgw-Contents-and-Acronyms.ipynb) | [Introduction to Machine Learning](02.00-mlpgw-Introduction-to-Machine-Learning.ipynb) ]>"
   ]
  },
  {
   "cell_type": "markdown",
   "id": "7840258e-0f9b-4364-89f4-c64b325cd51a",
   "metadata": {},
   "source": [
    "# 1. The Abstract"
   ]
  },
  {
   "cell_type": "markdown",
   "id": "a886a76e-b7ed-4251-be90-60715813d045",
   "metadata": {},
   "source": [
    "There are 4 types of Machine Learning problems and they are:\n",
    "* **Supervised learning**: a learning problem that involves a target variable and a set of predictor variables\n",
    "* **Semi-supervised learning**: a learning problem that involves a small portion of labeled examples and a large number of unlabelled examples\n",
    "* **Unsupervised learning**: a learning problem that does not have any target variable to predict; rather it’s used for clustering/segmenting populations in different groups\n",
    "* **Reinforcement learning**: a learning problem that does not have the properties of any of the above-mentioned 3 types. This type is relatively complex as compared to traditional machine learning. Here, the machine is exposed to an environment where it trains itself continually using trial and error and it learns from experience and tries to capture the best possible knowledge to make accurate decisions\n",
    "\n",
    "At times, the understanding of:\n",
    "* Machine learning is confused with automation and statistical modeling\n",
    "* Machine learning algorithms with machine learning models\n",
    "* Machine learning projects with data science projects\n",
    "\n",
    "ML projects are part of DS projects; however, all data science projects need not use ML. The usage of ML in DS projects depends on the volume and the complexity of the data, and the type of problem it’s trying to solve. Most of today’s DS projects use ML to find answers to problems. "
   ]
  },
  {
   "cell_type": "markdown",
   "id": "2fb60007-c35b-456d-992c-1bfec348a52f",
   "metadata": {},
   "source": [
    "In this whitepaper, it’s assumed that ML projects are part of DS projects and are not delivered as stand-alone projects. The ML team does not involve fully in all the stages of DSPM projects. ML projects center around EDA, data preprocessing, and modeling only while they are partially involved in other stages as well. It should be noted that if the ML team is expected to involve in all the stages of the DS project, then it becomes a DS project! With this in mind, a guideline has been given in this whitepaper to execute any ML project in 11 different stages as given below.\n",
    "1. Business understanding\n",
    "2. Data understanding\n",
    "3. Research\n",
    "4. Data preprocessing\n",
    "5. Model development\n",
    "6. Model training\n",
    "7. Model refinement\n",
    "8. Model evaluation\n",
    "9. Final model selection\n",
    "10. Model validation\n",
    "11. Model deployment\n",
    "\n",
    "The focus in this paper is mainly on the process flow, guidelines to perform tasks, and the deliverables involved in various stages of an ML project; not on the technical aspects of how to implement ML algorithms. "
   ]
  },
  {
   "cell_type": "markdown",
   "id": "28d47a88-0396-44c5-bbfe-21157a8224ac",
   "metadata": {},
   "source": [
    "<!--NAVIGATION-->\n",
    "<br>\n",
    "\n",
    "<[ [Contents and Acronyms](00.00-mlpgw-Contents-and-Acronyms.ipynb) | [Introduction to Machine Learning](02.00-mlpgw-Introduction-to-Machine-Learning.ipynb) ]>"
   ]
  }
 ],
 "metadata": {
  "kernelspec": {
   "display_name": "Python 3",
   "language": "python",
   "name": "python3"
  },
  "language_info": {
   "codemirror_mode": {
    "name": "ipython",
    "version": 3
   },
   "file_extension": ".py",
   "mimetype": "text/x-python",
   "name": "python",
   "nbconvert_exporter": "python",
   "pygments_lexer": "ipython3",
   "version": "3.8.8"
  }
 },
 "nbformat": 4,
 "nbformat_minor": 5
}
