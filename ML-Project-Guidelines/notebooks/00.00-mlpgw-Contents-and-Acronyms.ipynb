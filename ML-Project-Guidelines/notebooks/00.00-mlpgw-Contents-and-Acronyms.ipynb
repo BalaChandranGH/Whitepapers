{
 "cells": [
  {
   "cell_type": "markdown",
   "id": "3e26664b-7138-4b76-b237-77b8efeed23f",
   "metadata": {},
   "source": [
    "# Machine Learning Project Guidelines - For Beginners \n",
    "#### Whitepaper by *Balasubramanian Chandran*"
   ]
  },
  {
   "cell_type": "markdown",
   "id": "51427c8b-bada-4dc7-a8e8-1939545a9c57",
   "metadata": {},
   "source": [
    "<br>\n",
    "<img align=\"left\" style=\"padding-right:10px;\" src=\"figures/MLPG-Book-Cover.png\">"
   ]
  },
  {
   "cell_type": "markdown",
   "id": "52d30b5b-90b1-4b0f-bc60-15513b484ee2",
   "metadata": {},
   "source": [
    "This is the Jupyter notebook version of the **`Machine Learning Project Guidelines - For Beginners`** whitepaper written by *Balasubramanian Chandran*; the content is available [on GitHub](https://github.com/BalaChandranGH/Whitepapers/ML-Project-Guidelines)."
   ]
  },
  {
   "cell_type": "markdown",
   "id": "0921f2c4-ed66-419f-a7e3-105397edb6f1",
   "metadata": {},
   "source": [
    "# Table of Contents"
   ]
  },
  {
   "cell_type": "markdown",
   "id": "ca014d2a-1eba-4f96-bb7f-19b8bd5d4e8b",
   "metadata": {},
   "source": [
    "#### [0. Contents and Acronyms](00.00-mlpgw-Contents-and-Acronyms.ipynb)\n",
    "#### [1. The Abstract](01.00-mlpgw-The-Abstract.ipynb)\n",
    "#### [2. Introduction to Machine Learning](02.00-mlpgw-Introduction-to-Machine-Learning.ipynb)\n",
    "    2.1. What is Machine Learning?\n",
    "    2.2. Automation vs Machine Learning vs Statistical Modeling\n",
    "    2.3. Differences between Machine Learning and Statistical Modeling\n",
    "    2.4. Types of Machine Learning\n",
    "    2.5. Differences between Supervised and Unsupervised Learnings\n",
    "    2.6. Difference between ML Algorithms and ML Models\n",
    "#### [3. Machine Learning Project Stages](03.00-mlpgw-Machine-Learning-Project–Stages.ipynb)\n",
    "#### [4. Machine Learning Project Process Definition](04.00-mlpgw-Machine-Learning-Project–Process-Definition.ipynb)\n",
    "    4.1. Role Definitions\n",
    "#### [5. ML Project Stages in detail with Guidelines](05.00-mlpgw-ML-Project-Stages-in-detail-with-Guidelines.ipynb)\n",
    "    5.1. STAGE-1: BUSINESS UNDERSTANDING\n",
    "    5.2. STAGE-2: DATA UNDERSTANDING\n",
    "    5.3. STAGE-3: RESEARCH\n",
    "    5.4. STAGE-4: DATA PREPROCESSING\n",
    "    5.5. STAGE-5: MODEL DEVELOPMENT\n",
    "    5.6. STAGE-6: MODEL TRAINING\n",
    "    5.7. STAGE-7: MODEL REFINEMENT\n",
    "    5.8. STAGE-8: MODEL EVALUATION\n",
    "    5.9. STAGE-9: FINAL MODEL SELECTION\n",
    "    5.10. STAGE-10: MODEL VALIDATION\n",
    "    5.11. STAGE-11: MODEL DEPLOYMENT\n",
    "#### 6. Other Considerations\n",
    "* [6.1. How to choose ML Algorithms](06.01-mlpgw-Other-Considerations-How-to-choose-ML-Algorithms.ipynb)\n",
    "* [6.2. Metrics and Error Analysis](06.02-mlpgw-Other-Considerations-Metrics-and-Error-Analysis.ipynb)\n",
    "* [6.3 Model Performance Improvement](06.03-mlpgw-Other-Considerations-Model-Performance-Improvement.ipynb)\n",
    "\n",
    "#### [7. Summary](07.00-mlpgw-Summary.ipynb)\n",
    "#### [8. References](08.00-mlpgw-References.ipynb)"
   ]
  },
  {
   "cell_type": "markdown",
   "id": "3b404e39-df4d-4c82-a26a-a5a05fbefa1e",
   "metadata": {},
   "source": [
    "# Acronyms\n",
    "```\n",
    "A/B Test - A way to compare two versions of the same app to figure out which one performs better\n",
    "ADASYN   - Adaptive Synthetic Technique\n",
    "API      - Application Programming Interface\n",
    "AUC      - Area Under Curve\n",
    "CSV      - Comma Separated Values\n",
    "CV       - Cross-Validation\n",
    "DL       - Deep Learning\n",
    "DR       - Dimensionality Reduction\n",
    "DS       - Data Science\n",
    "DSPM     - Data Science Project Management\n",
    "DT       - Decision Tree\n",
    "EDA      - Exploratory Data Analysis\n",
    "FPR      - False Positive Rate\n",
    "GPU      - Graphical Processing Unit\n",
    "IQR      - Inter Quartile Range\n",
    "KNN      - K-Nearest Neighbors\n",
    "LASSO    - Least Absolute Shrinkage and Selection Operator\n",
    "MAE      - Mean Absolute Error\n",
    "MCC      - Mathews Correlation Coefficient\n",
    "MI       - Mutual Information\n",
    "ML       - Machine Learning\n",
    "MSE      - Mean Squared Error\n",
    "NaN      - Not a Number\n",
    "NB       - Naïve Bayes\n",
    "NLP      - Natural Language Processing\n",
    "NLTK     - Natural Language Toolkit\n",
    "NN       - Neural Network\n",
    "OLS      - Ordinary Least Squares\n",
    "PCA      - Principal Component Analysis\n",
    "PR       - Precision-Recall\n",
    "PR-AUC   - Precision-Recall Area Under Curve\n",
    "RF       - Random Forest\n",
    "RMSE     - Root Mean Squared Error\n",
    "RMSLE    - Roor Meas Squared Logarithmic Error\n",
    "ROC      - Receiver Operating Characteristic\n",
    "SD       - Standard Deviation\n",
    "SL       - Supervised Learning\n",
    "SMOTE    - Synthetic Minority Oversampling Technique\n",
    "SQL      - Structured Query Language\n",
    "SVM      - Support Vector Machine\n",
    "TPR      - True Positive Rate\n",
    "TSV      - Tab Separated Values\n",
    "UAT      - User Acceptance Testing\n",
    "UI       - User Interface\n",
    "USL      - Unsupervised Learning\n",
    "XGBoost  - Extreme Boosting\n",
    "XML      - Extensible Markup Language\n",
    "Z-Score  - Standard Score\n",
    "```"
   ]
  }
 ],
 "metadata": {
  "kernelspec": {
   "display_name": "Python 3",
   "language": "python",
   "name": "python3"
  },
  "language_info": {
   "codemirror_mode": {
    "name": "ipython",
    "version": 3
   },
   "file_extension": ".py",
   "mimetype": "text/x-python",
   "name": "python",
   "nbconvert_exporter": "python",
   "pygments_lexer": "ipython3",
   "version": "3.8.8"
  }
 },
 "nbformat": 4,
 "nbformat_minor": 5
}
