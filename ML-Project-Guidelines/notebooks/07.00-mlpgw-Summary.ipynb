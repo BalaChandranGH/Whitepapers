{
 "cells": [
  {
   "cell_type": "markdown",
   "id": "f36f4fcb-9542-4ae6-9419-5afd2aae21d8",
   "metadata": {},
   "source": [
    "<!--BOOK_INFORMATION-->\n",
    "<img align=\"left\" style=\"padding-right:10px;\" src=\"figures/MLPG-Book-Cover-Small.png\"><br>\n",
    "\n",
    "This notebook contains an excerpt from the **`Machine Learning Project Guidelines - For Beginners`** whitepaper written by *Balasubramanian Chandran*; the content is available [on GitHub](https://github.com/BalaChandranGH/Whitepapers/ML-Project-Guidelines)."
   ]
  },
  {
   "cell_type": "markdown",
   "id": "ff9b6351-c01f-4f7e-86c1-2e3a069e4027",
   "metadata": {},
   "source": [
    "<br>\n",
    "<!--NAVIGATION-->\n",
    "\n",
    "<[ [Other Considerations - Model Performance Improvement](06.03-mlpgw-Other-Considerations-Model-Performance-Improvement.ipynb) | [Contents and Acronyms](00.00-mlpgw-Contents-and-Acronyms.ipynb) | [References](08.00-mlpgw-References.ipynb) ]>"
   ]
  },
  {
   "cell_type": "markdown",
   "id": "7840258e-0f9b-4364-89f4-c64b325cd51a",
   "metadata": {},
   "source": [
    "# 7. Summary"
   ]
  },
  {
   "cell_type": "markdown",
   "id": "a886a76e-b7ed-4251-be90-60715813d045",
   "metadata": {},
   "source": [
    "The main focus of this whitepaper was to clearly define a methodology and provide guidelines for ML projects. Mostly, organizations use their homegrown methodology, simple to complex, for their use. This whitepaper was an attempt to introduce a standardized methodology that can be used across organizations to develop and deliver ML models. There are 11 distinct stages discussed in this methodology along with guidelines in each of those stages so that the key tasks are not missed or overlooked while developing ML models. \n",
    "\n",
    "In addition to the methodology, guidelines have also been provided on:\n",
    "* How to choose ML algorithms for a given project?\n",
    "* How to perform error analysis using metrics?\n",
    "* How to perform optimizations and improve model performance?\n",
    "* How to detect and prevent data leakage?\n",
    "\n",
    "This document talks about only very few commonly used ML algorithms. Several ML algorithms are already available and several others are being developed and published every day as well that are outside the scope of this document. Additionally, this document covers Supervised Learning (Regression and Classification problems) and Unsupervised Learning (Clustering problems) only.\n",
    "\n",
    "These guidelines will benefit any ML enthusiast from beginner to intermediate levels and may not be suitable for advanced ML developers."
   ]
  },
  {
   "cell_type": "markdown",
   "id": "28d47a88-0396-44c5-bbfe-21157a8224ac",
   "metadata": {},
   "source": [
    "<!--NAVIGATION-->\n",
    "<br>\n",
    "\n",
    "<[ [Other Considerations - Model Performance Improvement](06.03-mlpgw-Other-Considerations-Model-Performance-Improvement.ipynb) | [Contents and Acronyms](00.00-mlpgw-Contents-and-Acronyms.ipynb) | [References](08.00-mlpgw-References.ipynb) ]>"
   ]
  }
 ],
 "metadata": {
  "kernelspec": {
   "display_name": "Python 3",
   "language": "python",
   "name": "python3"
  },
  "language_info": {
   "codemirror_mode": {
    "name": "ipython",
    "version": 3
   },
   "file_extension": ".py",
   "mimetype": "text/x-python",
   "name": "python",
   "nbconvert_exporter": "python",
   "pygments_lexer": "ipython3",
   "version": "3.8.8"
  }
 },
 "nbformat": 4,
 "nbformat_minor": 5
}
