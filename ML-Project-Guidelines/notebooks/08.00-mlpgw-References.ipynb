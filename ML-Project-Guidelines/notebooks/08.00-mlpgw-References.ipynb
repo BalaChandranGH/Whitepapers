{
 "cells": [
  {
   "cell_type": "markdown",
   "id": "f36f4fcb-9542-4ae6-9419-5afd2aae21d8",
   "metadata": {},
   "source": [
    "<!--BOOK_INFORMATION-->\n",
    "<img align=\"left\" style=\"padding-right:10px;\" src=\"figures/MLPG-Book-Cover-Small.png\"><br>\n",
    "\n",
    "This notebook contains an excerpt from the **`Machine Learning Project Guidelines - For Beginners`** whitepaper written by *Balasubramanian Chandran*; the content is available [on GitHub](https://github.com/BalaChandranGH/Whitepapers/ML-Project-Guidelines)."
   ]
  },
  {
   "cell_type": "markdown",
   "id": "ff9b6351-c01f-4f7e-86c1-2e3a069e4027",
   "metadata": {},
   "source": [
    "<br>\n",
    "<!--NAVIGATION-->\n",
    "\n",
    "<[ [Summary](07.00-mlpgw-Summary.ipynb) | [Contents and Acronyms](00.00-mlpgw-Contents-and-Acronyms.ipynb) ]>"
   ]
  },
  {
   "cell_type": "markdown",
   "id": "7840258e-0f9b-4364-89f4-c64b325cd51a",
   "metadata": {},
   "source": [
    "# 8. References"
   ]
  },
  {
   "cell_type": "markdown",
   "id": "a886a76e-b7ed-4251-be90-60715813d045",
   "metadata": {},
   "source": [
    "1. [2.] Introduction to Machine Learning<br>\n",
    "   (https://www.analyticsvidhya.com/machine-learning/)<br>\n",
    "   (https://www.analyticsvidhya.com/blog/2017/09/common-machine-learning-algorithms/)\n",
    "\n",
    "2. [2.4.] Types of Machine Learning<br>\n",
    "   (https://machinelearningmastery.com/what-is-semi-supervised-learning/)\n",
    "     \n",
    "3. [2.6.] Difference between ML Algorithms and ML Models<br>\n",
    "   (https://machinelearningmastery.com/difference-between-algorithm-and-model-in-machine-learning/)\n",
    "     \n",
    "4. [5.4.1.2.] Feature Selection<br>\n",
    "   (https://machinelearningmastery.com/feature-selection-with-real-and-categorical-data/)<br>\n",
    "   (https://machinelearningmastery.com/calculate-feature-importance-with-python/)\n",
    "         \n",
    "5. [5.4.1.3.] Feature Engineering<br>\n",
    "   (https://www.kaggle.com/learn/feature-engineering)\n",
    "         \n",
    "6. [5.7.1.] Hyperparameters optimization<br>\n",
    "   (https://machinelearningmastery.com/hyperparameter-optimization-with-random-search-and-grid-search/)\n",
    "         \n",
    "7. [3-5.] DSPM Methodology - A Guideline for Beginners, 2021 [ Balasubramanian Chandran ]\n",
    "\n",
    "8. [6.] Other Considerations<br>\n",
    "   (https://www.coursera.org/)<br>\n",
    "   (https://cognitiveclass.ai/)<br>\n",
    "   (https://numpy.org/)<br>\n",
    "   (https://pandas.pydata.org/)<br>\n",
    "   (https://scipy.org/)<br>\n",
    "   (https://www.statsmodels.org/)<br>\n",
    "   (https://matplotlib.org/)<br>\n",
    "   (https://seaborn.pydata.org/)<br>\n",
    "   (https://scikit-learn.org/)<br>\n",
    "   (https://www.kdnuggets.com/)<br>\n",
    "   (https://stackoverflow.com/)<br>\n",
    "   (https://machinelearningmastery.com/)<br>\n",
    "   (https://www.analyticsvidhya.com/)<br>\n",
    "   (https://machinelearningmastery.com/no-free-lunch-theorem-for-machine-learning/)<br>\n",
    "   (https://machinelearningmastery.com/overfitting-machine-learning-models/)<br>\n",
    "   (https://machinelearningmastery.com/overfitting-and-underfitting-with-machine-learning-algorithms/)<br>\n",
    "   (https://www.kdnuggets.com/2020/05/guide-choose-right-machine-learning-algorithm.html)<br>\n",
    "   (https://cdn.oreillystatic.com/en/assets/1/event/105/Overcoming%20the%20Barriers%20to%20Production-Ready%20Machine-Learning%20Workflows%20Presentation%201.pdf)<br>\n",
    "   (https://faculty.marshall.usc.edu/gareth-james/index.html)<br>\n",
    "   (https://blogs.sas.com/content/subconsciousmusings/2020/12/09/machine-learning-algorithm-use/)"
   ]
  },
  {
   "cell_type": "markdown",
   "id": "28d47a88-0396-44c5-bbfe-21157a8224ac",
   "metadata": {},
   "source": [
    "<!--NAVIGATION-->\n",
    "<br>\n",
    "\n",
    "<[ [Summary](07.00-mlpgw-Summary.ipynb) | [Contents and Acronyms](00.00-mlpgw-Contents-and-Acronyms.ipynb) ]>"
   ]
  }
 ],
 "metadata": {
  "kernelspec": {
   "display_name": "Python 3",
   "language": "python",
   "name": "python3"
  },
  "language_info": {
   "codemirror_mode": {
    "name": "ipython",
    "version": 3
   },
   "file_extension": ".py",
   "mimetype": "text/x-python",
   "name": "python",
   "nbconvert_exporter": "python",
   "pygments_lexer": "ipython3",
   "version": "3.8.8"
  }
 },
 "nbformat": 4,
 "nbformat_minor": 5
}
