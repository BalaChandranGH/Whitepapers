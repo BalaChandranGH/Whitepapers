{
 "cells": [
  {
   "cell_type": "markdown",
   "id": "f36f4fcb-9542-4ae6-9419-5afd2aae21d8",
   "metadata": {},
   "source": [
    "<!--BOOK_INFORMATION-->\n",
    "<img align=\"left\" style=\"padding-right:10px;\" src=\"figures/MLPG-Book-Cover-Small.png\"><br>\n",
    "\n",
    "This notebook contains an excerpt from the **`Machine Learning Project Guidelines - For Beginners`** whitepaper written by *Balasubramanian Chandran*; the content is available [on GitHub](https://github.com/BalaChandranGH/Whitepapers/ML-Project-Guidelines)."
   ]
  },
  {
   "cell_type": "markdown",
   "id": "ff9b6351-c01f-4f7e-86c1-2e3a069e4027",
   "metadata": {},
   "source": [
    "<br>\n",
    "<!--NAVIGATION-->\n",
    "\n",
    "<[ [Machine Learning Project – Stages](03.00-mlpgw-Machine-Learning-Project–Stages.ipynb) | [Contents and Acronyms](00.00-mlpgw-Contents-and-Acronyms.ipynb) | [ML Project - Stages in detail with Guidelines](05.00-mlpgw-ML-Project-Stages-in-detail-with-Guidelines.ipynb) ]>"
   ]
  },
  {
   "cell_type": "markdown",
   "id": "7840258e-0f9b-4364-89f4-c64b325cd51a",
   "metadata": {},
   "source": [
    "# 4. Machine Learning Project – Process Definition"
   ]
  },
  {
   "cell_type": "markdown",
   "id": "a886a76e-b7ed-4251-be90-60715813d045",
   "metadata": {},
   "source": [
    "![](figures/MLPG-ProcessDefinition.png)"
   ]
  },
  {
   "cell_type": "markdown",
   "id": "c1fe7e69-14c0-46ad-803c-1557376e1cd6",
   "metadata": {},
   "source": [
    "## 4.1. Role Definitions\n",
    "The roles mentioned in the “Machine Learning Project - Process Definition” and “Machine Learning Project - Stages” sections are indicative only. Depending on the size and the complexity of the projects, additional roles can be defined such as Data Architect, Data Analyst, Business Analyst, Business User, Project Lead, etc. If the size of the project/organization is small or the complexity is low, then the Data Scientist may play the unicorn role with the combined roles of ML Engineer, Data Engineer, Data Architect, Data Analyst, Project Manager, Project Lead & Solution Architect. Given below are the role definitions for a small to intermediate project size/complexity."
   ]
  },
  {
   "cell_type": "markdown",
   "id": "146bd1f1-61b7-468e-b299-1ded58a9a4c5",
   "metadata": {},
   "source": [
    "**Project Manager:**\n",
    "* Lead the project from inception to a successful deployment\n",
    "* Project planning and execution, management of scope, budget, schedule, quality, communication, risk, and resource (people, h/w, s/w, etc.) \n",
    "* Produce project charter, training & monitoring plans, monitoring dashboard, project end report\n",
    "* Obtain business sign-off before deployment\n",
    "\n",
    "**Solution Architect:**\n",
    "* Produce End-to-End solution architecture\n",
    "* Develop data pipelines\n",
    "* Deploy the validated model and the developed data pipelines into production\n",
    "\n",
    "**Data Scientist:**\n",
    "* Clearly define the business problems \n",
    "* Convert business problems into analytical problems that the ML team can solve\n",
    "* Select the project methodology and lead the overall research stage\n",
    "* Select the evaluation metrics with reasons\n",
    "* Review the evaluation metrics produced by the ML Engineer at all stages and take actions\n",
    "* Involve in all the stages of the project and ensure the overall success of the project\n",
    "* Produce deployment plan\n",
    "\n",
    "**Data Engineer:**\n",
    "* Identify data sources and data environments\n",
    "* Collect raw datasets and their metadata\n",
    "* Produce raw data summary report\n",
    "* Perform Exploratory Data Analysis (EDA)\n",
    "* Produce an EDA report\n",
    "\n",
    "**ML Engineer:**\n",
    "* Perform data preprocessing activities such as data cleaning and formatting, data transformations, feature selection, feature engineering, and splitting datasets into train-test datasets\n",
    "* Produce preprocessed datasets and their metadata\n",
    "* Produce preprocessed data summary report\n",
    "* Develop, train, refine, evaluate, and select the final model\n",
    "* Produce evaluation metrics at all stages of the model development\n",
    "\n",
    "**Business Team:**\n",
    "* This team involves the business sponsor, business users, and business analysts\n",
    "* Identify business problems\n",
    "* Perform UAT (and A/B test) and validate the final model\n",
    "* Produce UAT (and A/B test) reports"
   ]
  },
  {
   "cell_type": "markdown",
   "id": "28d47a88-0396-44c5-bbfe-21157a8224ac",
   "metadata": {},
   "source": [
    "<!--NAVIGATION-->\n",
    "<br>\n",
    "\n",
    "<[ [Machine Learning Project – Stages](03.00-mlpgw-Machine-Learning-Project–Stages.ipynb) | [Contents and Acronyms](00.00-mlpgw-Contents-and-Acronyms.ipynb) | [ML Project - Stages in detail with Guidelines](05.00-mlpgw-ML-Project-Stages-in-detail-with-Guidelines.ipynb) ]>"
   ]
  }
 ],
 "metadata": {
  "kernelspec": {
   "display_name": "Python 3",
   "language": "python",
   "name": "python3"
  },
  "language_info": {
   "codemirror_mode": {
    "name": "ipython",
    "version": 3
   },
   "file_extension": ".py",
   "mimetype": "text/x-python",
   "name": "python",
   "nbconvert_exporter": "python",
   "pygments_lexer": "ipython3",
   "version": "3.8.8"
  }
 },
 "nbformat": 4,
 "nbformat_minor": 5
}
