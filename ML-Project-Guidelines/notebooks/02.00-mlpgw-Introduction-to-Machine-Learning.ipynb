{
 "cells": [
  {
   "cell_type": "markdown",
   "id": "f36f4fcb-9542-4ae6-9419-5afd2aae21d8",
   "metadata": {},
   "source": [
    "<!--BOOK_INFORMATION-->\n",
    "<img align=\"left\" style=\"padding-right:10px;\" src=\"figures/MLPG-Book-Cover-Small.png\"><br>\n",
    "\n",
    "This notebook contains an excerpt from the **`Machine Learning Project Guidelines - For Beginners`** whitepaper written by *Balasubramanian Chandran*; the content is available [on GitHub](https://github.com/BalaChandranGH/Whitepapers/ML-Project-Guidelines)."
   ]
  },
  {
   "cell_type": "markdown",
   "id": "ff9b6351-c01f-4f7e-86c1-2e3a069e4027",
   "metadata": {},
   "source": [
    "<br>\n",
    "<!--NAVIGATION-->\n",
    "\n",
    "<[ [The Abstract](01.00-mlpgw-The-Abstract.ipynb) | [Contents and Acronyms](00.00-mlpgw-Contents-and-Acronyms.ipynb) | [Machine Learning Project – Stages](03.00-mlpgw-Machine-Learning-Project–Stages.ipynb) ]>"
   ]
  },
  {
   "cell_type": "markdown",
   "id": "7840258e-0f9b-4364-89f4-c64b325cd51a",
   "metadata": {},
   "source": [
    "# 2. Introduction to Machine Learning"
   ]
  },
  {
   "cell_type": "markdown",
   "id": "a886a76e-b7ed-4251-be90-60715813d045",
   "metadata": {},
   "source": [
    "## 2.1. What is Machine Learning?\n",
    "* Machine Learning is the science of teaching machines how to learn by themselves\n",
    "* The machines capture data from the environment and feed it to the machine learning models\n",
    "* Machines can do high-frequency repetitive tasks with high accuracy without getting bored"
   ]
  },
  {
   "cell_type": "markdown",
   "id": "7fc29cd5-5da4-41bd-a0e9-e2a23342e09b",
   "metadata": {
    "jp-MarkdownHeadingCollapsed": true,
    "tags": []
   },
   "source": [
    "## 2.2. Automation vs Machine Learning vs Statistical modeling\n",
    "* **Automation**: Rule-driven and does not evolve\n",
    "* **Machine Learning**: An algorithm that does evolve by learning from past data, without relying on rules-based programming, and changing its decisions/performance\n",
    "* **Statistical modeling**: Formalization of relationships between variables in the form of math equations\n",
    "<br>_The only relation between Automation and ML is that ML enables better automation._"
   ]
  },
  {
   "cell_type": "markdown",
   "id": "d82e83a2-e4a9-4f02-a13a-a512e0164828",
   "metadata": {},
   "source": [
    "## 2.3. Differences between Machine Learning and Statistical modeling"
   ]
  },
  {
   "cell_type": "markdown",
   "id": "c39c369d-4bab-410d-824e-6eb16c9cbd32",
   "metadata": {},
   "source": [
    "![](figures/MLPG-DifferencesMLSM.png)"
   ]
  },
  {
   "cell_type": "markdown",
   "id": "c5fb5424-9514-4d25-b128-2df9f52bf116",
   "metadata": {},
   "source": [
    "## 2.4. Types of Machine Learning\n",
    "**Supervised Learning:**\n",
    "* This algorithm consists of a target/outcome variable (dependent variable) which is to be predicted from a given set of predictors (independent variables)\n",
    "* Using this set of variables, we generate a function that maps inputs to desired outputs. The training process continues until the model achieves a desired level of accuracy on the training data\n",
    "* Examples: Linear Regression, Decision Tree, Random Forest, KNN, Logistic Regression, etc.\n",
    "\n",
    "**Semi-Supervised Learning:**\n",
    "* It refers to a learning problem (and algorithms designed for the learning problem) that involves a small portion of labeled examples and a large number of unlabeled examples from which a model must learn and make predictions on new examples\n",
    "\n",
    "**Unsupervised Learning:**\n",
    "* In this algorithm, we do not have any target or outcome variable to predict/estimate\n",
    "* It is used for clustering populations in different groups, which is widely used for segmenting customers in different groups for specific interventions\n",
    "* Examples: Apriori algorithm, K-means\n",
    "\n",
    "**Reinforcement Learning:**\n",
    "* It works this way: the machine is exposed to an environment where it trains itself continually using trial and error\n",
    "* The machine learns from experience and tries to capture the best possible knowledge to make accurate business decisions\n",
    "* Examples: Markov Decision Process\n",
    "* Reinforcement Learning is said to be the hope of true artificial intelligence and it is a slightly complex topic as compared to traditional ML but an equally crucial one for the future"
   ]
  },
  {
   "cell_type": "markdown",
   "id": "cec952a3-b4b8-475c-8749-16b65ff3ed43",
   "metadata": {},
   "source": [
    "## 2.5. Differences between Supervised & Unsupervised Learnings"
   ]
  },
  {
   "cell_type": "markdown",
   "id": "c421b457-501a-413d-a8b6-bbfa40eeeae4",
   "metadata": {},
   "source": [
    "![](figures/MLPG-DifferencesSLUSL.png)"
   ]
  },
  {
   "cell_type": "markdown",
   "id": "24fd8f8a-ae99-4b10-960d-970874c7d16f",
   "metadata": {},
   "source": [
    "## 2.6. Difference between ML Algorithms and ML Models\n",
    "**ML Algorithms:**\n",
    "* Procedures that are implemented in code and are run on data\n",
    "* Learn from data or fit on a dataset\n",
    "* Can be described by pseudocodes\n",
    "* Can be implemented by programming languages (Python, R, etc.)\n",
    "\n",
    "**ML Models:**\n",
    "* Outputs generated by algorithms and are comprised of model data and algorithms, i.e., \n",
    "_``Models = Algorithms + data``_\n",
    "* The output of ML algorithms that run on data\n",
    "* Represents what was learned by an ML algorithm\n",
    "* An ML model is a set of programs that is saved after running an ML algorithm on training data. For eg.,\n",
    "  - An LR algorithm results in a model comprised of a vector of coefficients with specific values\n",
    "  - A DT algorithm results in a model comprised of a tree of if-then statements with specific values\n",
    "  - The NN/backpropagation/gradient descent algorithms together result in a model comprised of a graph structure with vectors or matrices of weights with specific values"
   ]
  },
  {
   "cell_type": "markdown",
   "id": "28d47a88-0396-44c5-bbfe-21157a8224ac",
   "metadata": {},
   "source": [
    "<!--NAVIGATION-->\n",
    "<br>\n",
    "\n",
    "<[ [The Abstract](01.00-mlpgw-The-Abstract.ipynb) | [Contents and Acronyms](00.00-mlpgw-Contents-and-Acronyms.ipynb) | [Machine Learning Project – Stages](03.00-mlpgw-Machine-Learning-Project–Stages.ipynb) ]>"
   ]
  }
 ],
 "metadata": {
  "kernelspec": {
   "display_name": "Python 3",
   "language": "python",
   "name": "python3"
  },
  "language_info": {
   "codemirror_mode": {
    "name": "ipython",
    "version": 3
   },
   "file_extension": ".py",
   "mimetype": "text/x-python",
   "name": "python",
   "nbconvert_exporter": "python",
   "pygments_lexer": "ipython3",
   "version": "3.8.8"
  }
 },
 "nbformat": 4,
 "nbformat_minor": 5
}
