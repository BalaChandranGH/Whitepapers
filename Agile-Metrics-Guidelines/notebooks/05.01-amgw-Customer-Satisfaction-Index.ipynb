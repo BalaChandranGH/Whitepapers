{
 "cells": [
  {
   "cell_type": "markdown",
   "id": "f36f4fcb-9542-4ae6-9419-5afd2aae21d8",
   "metadata": {},
   "source": [
    "<!--BOOK_INFORMATION-->\n",
    "<img align=\"left\" style=\"padding-right:10px;\" src=\"figures/AM-Book-Cover-Small.png\"><br>\n",
    "\n",
    "This notebook contains an excerpt from the **`Agile Metrics Guidelines - For Beginners`** whitepaper written by *Balasubramanian Chandran*; the content is available [on GitHub](https://github.com/BalaChandranGH/Whitepapers/Agile-Metrics-Guidelines)."
   ]
  },
  {
   "cell_type": "markdown",
   "id": "ff9b6351-c01f-4f7e-86c1-2e3a069e4027",
   "metadata": {},
   "source": [
    "<br>\n",
    "<!--NAVIGATION-->\n",
    "\n",
    "<[ [Actionable Agile Metrics](05.00-amgw-Actionable-Agile-Metrics.ipynb) | [Contents and Acronyms](00.00-amgw-Contents-and-Acronyms.ipynb) | [Actionable Agile Metrics - Sprint Burndown](05.02-amgw-Sprint-Burndown.ipynb) ]>"
   ]
  },
  {
   "cell_type": "markdown",
   "id": "7840258e-0f9b-4364-89f4-c64b325cd51a",
   "metadata": {},
   "source": [
    "# 5. Actionable Agile Metrics"
   ]
  },
  {
   "cell_type": "markdown",
   "id": "77b09e17-4a2e-4b49-8716-9cc5936f73fb",
   "metadata": {},
   "source": [
    "## 5.1. Customer Satisfaction Index\n",
    "### Formula:\n",
    "![](figures/AM-5a1-CSI-Formula.png)\n",
    "### Inputs:\n",
    "![](figures/AM-5a2-CSI-Input.png)\n",
    "### Outputs:\n",
    "![](figures/AM-5a3-CSI-Output1.png)     ![](figures/AM-5a4-CSI-Output2.png)\n",
    "\n",
    "![](figures/AM-5a5-CSI-Output3.png)"
   ]
  },
  {
   "cell_type": "markdown",
   "id": "28d47a88-0396-44c5-bbfe-21157a8224ac",
   "metadata": {},
   "source": [
    "<!--NAVIGATION-->\n",
    "<br>\n",
    "\n",
    "<[ [Actionable Agile Metrics](05.00-amgw-Actionable-Agile-Metrics.ipynb) | [Contents and Acronyms](00.00-amgw-Contents-and-Acronyms.ipynb) | [Actionable Agile Metrics - Sprint Burndown](05.02-amgw-Sprint-Burndown.ipynb) ]>"
   ]
  }
 ],
 "metadata": {
  "kernelspec": {
   "display_name": "Python 3",
   "language": "python",
   "name": "python3"
  },
  "language_info": {
   "codemirror_mode": {
    "name": "ipython",
    "version": 3
   },
   "file_extension": ".py",
   "mimetype": "text/x-python",
   "name": "python",
   "nbconvert_exporter": "python",
   "pygments_lexer": "ipython3",
   "version": "3.8.8"
  }
 },
 "nbformat": 4,
 "nbformat_minor": 5
}
