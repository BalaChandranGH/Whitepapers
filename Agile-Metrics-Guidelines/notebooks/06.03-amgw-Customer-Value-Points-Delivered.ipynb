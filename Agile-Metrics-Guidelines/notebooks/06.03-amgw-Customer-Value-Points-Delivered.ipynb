{
 "cells": [
  {
   "cell_type": "markdown",
   "id": "f36f4fcb-9542-4ae6-9419-5afd2aae21d8",
   "metadata": {},
   "source": [
    "<!--BOOK_INFORMATION-->\n",
    "<img align=\"left\" style=\"padding-right:10px;\" src=\"figures/AM-Book-Cover-Small.png\"><br>\n",
    "\n",
    "This notebook contains an excerpt from the **`Agile Metrics Guidelines - For Beginners`** whitepaper written by *Balasubramanian Chandran*; the content is available [on GitHub](https://github.com/BalaChandranGH/Whitepapers/Agile-Metrics-Guidelines)."
   ]
  },
  {
   "cell_type": "markdown",
   "id": "ff9b6351-c01f-4f7e-86c1-2e3a069e4027",
   "metadata": {},
   "source": [
    "<br>\n",
    "<!--NAVIGATION-->\n",
    "\n",
    "<[ [Appendi A - Commitment-Reliability](06.02-amgw-Commitment-Reliability.ipynb) | [Contents and Acronyms](00.00-amgw-Contents-and-Acronyms.ipynb) | [Appendix A - Effort Estimation Variance](06.04-amgw-Effort-Estimation-Variance.ipynb) ]>"
   ]
  },
  {
   "cell_type": "markdown",
   "id": "7840258e-0f9b-4364-89f4-c64b325cd51a",
   "metadata": {},
   "source": [
    "# 6. Appendix A"
   ]
  },
  {
   "cell_type": "markdown",
   "id": "77b09e17-4a2e-4b49-8716-9cc5936f73fb",
   "metadata": {},
   "source": [
    "## 6.3. Customer Value Points Delivered\n",
    "### Formula:\n",
    "None.\n",
    "### Inputs:\n",
    "![](figures/AM-6c1-CVPD-Input.png)\n",
    "### Outputs:\n",
    "![](figures/AM-6c2-CVPD-Output.png)"
   ]
  },
  {
   "cell_type": "markdown",
   "id": "28d47a88-0396-44c5-bbfe-21157a8224ac",
   "metadata": {},
   "source": [
    "<!--NAVIGATION-->\n",
    "<br>\n",
    "\n",
    "<[ [Appendi A - Commitment-Reliability](06.02-amgw-Commitment-Reliability.ipynb) | [Contents and Acronyms](00.00-amgw-Contents-and-Acronyms.ipynb) | [Appendix A - Effort Estimation Variance](06.04-amgw-Effort-Estimation-Variance.ipynb) ]>"
   ]
  }
 ],
 "metadata": {
  "kernelspec": {
   "display_name": "Python 3",
   "language": "python",
   "name": "python3"
  },
  "language_info": {
   "codemirror_mode": {
    "name": "ipython",
    "version": 3
   },
   "file_extension": ".py",
   "mimetype": "text/x-python",
   "name": "python",
   "nbconvert_exporter": "python",
   "pygments_lexer": "ipython3",
   "version": "3.8.8"
  }
 },
 "nbformat": 4,
 "nbformat_minor": 5
}
