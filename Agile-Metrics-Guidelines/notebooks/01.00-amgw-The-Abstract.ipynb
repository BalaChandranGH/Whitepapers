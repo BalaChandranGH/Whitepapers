{
 "cells": [
  {
   "cell_type": "markdown",
   "id": "f36f4fcb-9542-4ae6-9419-5afd2aae21d8",
   "metadata": {},
   "source": [
    "<!--BOOK_INFORMATION-->\n",
    "<img align=\"left\" style=\"padding-right:10px;\" src=\"figures/AM-Book-Cover-Small.png\"><br>\n",
    "\n",
    "This notebook contains an excerpt from the **`Agile Metrics Guidelines - For Beginners`** whitepaper written by *Balasubramanian Chandran*; the content is available [on GitHub](https://github.com/BalaChandranGH/Whitepapers/Agile-Metrics-Guidelines)."
   ]
  },
  {
   "cell_type": "markdown",
   "id": "ff9b6351-c01f-4f7e-86c1-2e3a069e4027",
   "metadata": {},
   "source": [
    "<br>\n",
    "<!--NAVIGATION-->\n",
    "\n",
    "<[ [Contents and Acronyms](00.00-amgw-Contents-and-Acronyms.ipynb) | [Agie KPIs](02.00-amgw-Agile-KPIs.ipynb) ]>"
   ]
  },
  {
   "cell_type": "markdown",
   "id": "7840258e-0f9b-4364-89f4-c64b325cd51a",
   "metadata": {},
   "source": [
    "# 1. The Abstract"
   ]
  },
  {
   "cell_type": "markdown",
   "id": "3c9e8022-a61c-439e-8382-f1bb9f55d5ef",
   "metadata": {},
   "source": [
    "One of the key responsibilities of a PM is to balance the Scope, Schedule, Budget & Quality of the project deliverables that are challenged by risks more often. Metrics help them to measure these parameters, identify the risks early and mitigate them to manage and deliver the projects better.\n",
    "\n",
    "This whitepaper focuses on the following:\n",
    "* The key differences between KPIs and metrics\n",
    "* What are the good uses and bad uses of metrics?\n",
    "* What are vanity metrics and actionable metrics and differences between them?\n",
    "* How to choose and use agile metrics wisely?\n",
    "* Should the metrics measure the outputs or outcomes?\n",
    "* Top 5 actionable metrics recommended for agile projects\n",
    "* 5 additional/alternative actionable metrics for agile projects\n",
    "* Snapshots of 10 actionable agile metrics from the tools developed by the author\n",
    "![](figures/AM-1-PM-Challenge.png)\n",
    "\n",
    "**Figure 1:** _PM Challenge,_ **Image Source:** _Balasubramanian Chandran_"
   ]
  },
  {
   "cell_type": "markdown",
   "id": "28d47a88-0396-44c5-bbfe-21157a8224ac",
   "metadata": {},
   "source": [
    "<!--NAVIGATION-->\n",
    "<br>\n",
    "\n",
    "<[ [Contents and Acronyms](00.00-amgw-Contents-and-Acronyms.ipynb) | [Agie KPIs](02.00-amgw-Agile-KPIs.ipynb) ]>"
   ]
  }
 ],
 "metadata": {
  "kernelspec": {
   "display_name": "Python 3",
   "language": "python",
   "name": "python3"
  },
  "language_info": {
   "codemirror_mode": {
    "name": "ipython",
    "version": 3
   },
   "file_extension": ".py",
   "mimetype": "text/x-python",
   "name": "python",
   "nbconvert_exporter": "python",
   "pygments_lexer": "ipython3",
   "version": "3.8.8"
  }
 },
 "nbformat": 4,
 "nbformat_minor": 5
}
