{
 "cells": [
  {
   "cell_type": "markdown",
   "id": "f36f4fcb-9542-4ae6-9419-5afd2aae21d8",
   "metadata": {},
   "source": [
    "<!--BOOK_INFORMATION-->\n",
    "<img align=\"left\" style=\"padding-right:10px;\" src=\"figures/AM-Book-Cover-Small.png\"><br>\n",
    "\n",
    "This notebook contains an excerpt from the **`Agile Metrics Guidelines - For Beginners`** whitepaper written by *Balasubramanian Chandran*; the content is available [on GitHub](https://github.com/BalaChandranGH/Whitepapers/Agile-Metrics-Guidelines)."
   ]
  },
  {
   "cell_type": "markdown",
   "id": "ff9b6351-c01f-4f7e-86c1-2e3a069e4027",
   "metadata": {},
   "source": [
    "<br>\n",
    "<!--NAVIGATION-->\n",
    "\n",
    "<[ [Agile KPIs](02.00-amgw-Agile-KPIs.ipynb) | [Contents and Acronyms](00.00-amgw-Contents-and-Acronyms.ipynb) | [Outputs-vs-Outcomes-What-to-Measure?](04.00-amgw-Outputs-vs-Outcomes-What-to-Measure.ipynb) ]>"
   ]
  },
  {
   "cell_type": "markdown",
   "id": "7840258e-0f9b-4364-89f4-c64b325cd51a",
   "metadata": {},
   "source": [
    "# 3. Agile Metrics"
   ]
  },
  {
   "cell_type": "markdown",
   "id": "2c78b592-7186-4379-9c8c-00925350ba1e",
   "metadata": {},
   "source": [
    "## 3.1. What is a Metric?\n",
    "_**“A metric is a numerical measurement or evaluation of something related to performance or process or event of some kind”.**_\n",
    "* _“When a measure becomes a target, it ceases to be a good measure”_ – Goodhart’s Law\n",
    "* Use metrics to look back and improve rather than as a target."
   ]
  },
  {
   "cell_type": "markdown",
   "id": "59c1359e-c70e-4cce-8cc5-4deba0f57967",
   "metadata": {},
   "source": [
    "## 3.2. Good use of Metrics\n",
    "* Create a shared perspective and diagnosis\n",
    "* Feedback for planning\n",
    "* Feedback for prioritization\n",
    "* Correct processes\n",
    "* Maintain a healthy codebase"
   ]
  },
  {
   "cell_type": "markdown",
   "id": "3d8ba804-576f-477d-9808-fbcd880917b2",
   "metadata": {},
   "source": [
    "## 3.3. Bad use of Metrics\n",
    "* Evaluate individuals\n",
    "* Evaluate teams\n",
    "* Give targets\n",
    "* Show progress (show progress only thru working software)"
   ]
  },
  {
   "cell_type": "markdown",
   "id": "498517c5-5fa0-4e01-b943-7591513d8195",
   "metadata": {},
   "source": [
    "## 3.4. Vanity Metrics\n",
    "* Metrics should be actionable, effective, and used to track the performance or process.\n",
    "* For products and their features, efficacy should always be measured using actionable metrics.\n",
    "* Actionable metrics help drive or at least inform decision-making and take action.\n",
    "* The metrics that have the following characteristics are Vanity Metrics and should probably be ignored.\n",
    "   - A metric that doesn’t change behavior or cause something to be different\n",
    "   - Non-actionable and ineffective\n",
    "   - Make people feel good only\n",
    "   - Don’t inform decision-makers of actions to be taken"
   ]
  },
  {
   "cell_type": "markdown",
   "id": "3c9e8022-a61c-439e-8382-f1bb9f55d5ef",
   "metadata": {},
   "source": [
    "## 3.5. Actionable vs Vanity Metrics\n",
    "![](figures/AM-3a-Actionable-vs-Vanity-Metrics.png)"
   ]
  },
  {
   "cell_type": "markdown",
   "id": "ec9aeb65-52f1-451f-a95c-1b98eae6d40c",
   "metadata": {},
   "source": [
    "## 3.6. How to choose and use agile metrics wisely?\n",
    "* Choose only actionable metrics based on what matters to the project the most.\n",
    "* Don’t choose too many metrics and scatter the team’s focus, in other words, if you use too many metrics it is more likely that different parts of the project team/ organization will focus on different metrics which will endanger the alignment toward the common goal(s).\n",
    "* Choose and use metrics to improve the processes that would in turn improve the performance repeatedly.\n",
    "* Don’t make metrics become targets that can be achieved by some shortcuts suffering repeatability.\n",
    "* More is not better; use only a minimum number of metrics to measure the performance (say 1 per KPI).\n",
    "* Don’t use any metric in isolation; use all the project metrics together to get better context to make the right decisions. For example, if all other metrics are looking good and the Happiness Index is Low, then the team is probably burning out and they may not be able to repeat with they have achieved so far.\n",
    "* Choose metrics based on the KPIs.\n",
    "* The following are 5 basic metrics to use:\n",
    "![](figures/AM-3b-5-Basic-Metrics.png)\n",
    "\n",
    "`NOTE:` Customer Values are not the same as Business Values; the actual Business Value can be seen only after the product rollout. Here, the Value Points are the anticipated Business Values, as seen by the customer before building the product, given on a scale of 1-10."
   ]
  },
  {
   "cell_type": "markdown",
   "id": "28d47a88-0396-44c5-bbfe-21157a8224ac",
   "metadata": {},
   "source": [
    "<!--NAVIGATION-->\n",
    "<br>\n",
    "\n",
    "<[ [Agile KPIs](02.00-amgw-Agile-KPIs.ipynb) | [Contents and Acronyms](00.00-amgw-Contents-and-Acronyms.ipynb) | [Outputs-vs-Outcomes-What-to-Measure?](04.00-amgw-Outputs-vs-Outcomes-What-to-Measure.ipynb) ]>"
   ]
  }
 ],
 "metadata": {
  "kernelspec": {
   "display_name": "Python 3",
   "language": "python",
   "name": "python3"
  },
  "language_info": {
   "codemirror_mode": {
    "name": "ipython",
    "version": 3
   },
   "file_extension": ".py",
   "mimetype": "text/x-python",
   "name": "python",
   "nbconvert_exporter": "python",
   "pygments_lexer": "ipython3",
   "version": "3.8.8"
  }
 },
 "nbformat": 4,
 "nbformat_minor": 5
}
