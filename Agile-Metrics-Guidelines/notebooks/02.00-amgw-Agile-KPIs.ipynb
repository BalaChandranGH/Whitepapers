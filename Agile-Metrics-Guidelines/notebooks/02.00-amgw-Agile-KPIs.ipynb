{
 "cells": [
  {
   "cell_type": "markdown",
   "id": "f36f4fcb-9542-4ae6-9419-5afd2aae21d8",
   "metadata": {},
   "source": [
    "<!--BOOK_INFORMATION-->\n",
    "<img align=\"left\" style=\"padding-right:10px;\" src=\"figures/AM-Book-Cover-Small.png\"><br>\n",
    "\n",
    "This notebook contains an excerpt from the **`Agile Metrics Guidelines - For Beginners`** whitepaper written by *Balasubramanian Chandran*; the content is available [on GitHub](https://github.com/BalaChandranGH/Whitepapers/Agile-Metrics-Guidelines)."
   ]
  },
  {
   "cell_type": "markdown",
   "id": "ff9b6351-c01f-4f7e-86c1-2e3a069e4027",
   "metadata": {},
   "source": [
    "<br>\n",
    "<!--NAVIGATION-->\n",
    "\n",
    "<[ [The Abstract](01.00-amgw-The-Abstract.ipynb) | [Contents and Acronyms](00.00-amgw-Contents-and-Acronyms.ipynb) | [Agile Metrics](03.00-amgw-Agile-Metrics.ipynb) ]>"
   ]
  },
  {
   "cell_type": "markdown",
   "id": "7840258e-0f9b-4364-89f4-c64b325cd51a",
   "metadata": {},
   "source": [
    "# 2. Agile KPIs"
   ]
  },
  {
   "cell_type": "markdown",
   "id": "2c78b592-7186-4379-9c8c-00925350ba1e",
   "metadata": {},
   "source": [
    "## 2.1. What is a KPI?\n",
    "_**“A KPI is a business metric that measures the performance and progress of a business against its key objectives.”**_"
   ]
  },
  {
   "cell_type": "markdown",
   "id": "59c1359e-c70e-4cce-8cc5-4deba0f57967",
   "metadata": {},
   "source": [
    "## 2.2. Why use KPIs?\n",
    "* To measure the performance effectiveness, accuracy, actual reflection of the process, efficacy in delivering the outcome, the success and failures.\n",
    "* To monitor the reliability and repeatability as an effect of changes."
   ]
  },
  {
   "cell_type": "markdown",
   "id": "3d8ba804-576f-477d-9808-fbcd880917b2",
   "metadata": {},
   "source": [
    "## 2.3. How to set KPIs?\n",
    "* Link to the strategies and operations, i.e., the things that matter the most.\n",
    "* Have to provide answers to the most important questions."
   ]
  },
  {
   "cell_type": "markdown",
   "id": "498517c5-5fa0-4e01-b943-7591513d8195",
   "metadata": {},
   "source": [
    "## 2.4. Defining KPIs using the SMART principle\n",
    "```\n",
    "S – Specific\n",
    "M – Measurable\n",
    "A – Achievable\n",
    "R - Relevant (or) Result-oriented\n",
    "T - Time-bound\n",
    "```"
   ]
  },
  {
   "cell_type": "markdown",
   "id": "3c9e8022-a61c-439e-8382-f1bb9f55d5ef",
   "metadata": {},
   "source": [
    "## 2.5. KPIs vs Metrics\n",
    "![](figures/AM-2-KPIs-vs-Metrics.png)"
   ]
  },
  {
   "cell_type": "markdown",
   "id": "ec9aeb65-52f1-451f-a95c-1b98eae6d40c",
   "metadata": {},
   "source": [
    "## 2.6. Key KPIs\n",
    "The following are the 5 most useful KPIs/ success levers for any project.\n",
    "* _**Customer Value**_ – Are we meeting the customer’s needs?\n",
    "* _**Productivity**_ – Are we getting done more with the same resources or within the same time?\n",
    "* _**Predictability**_ – Are we able to accurately plan and deliver?\n",
    "* _**Quality**_ – Are the developed products free of defects, bugs, and issues?\n",
    "* _**Stability**_ – Can the project team maintain this pace till the end of the project?"
   ]
  },
  {
   "cell_type": "markdown",
   "id": "28d47a88-0396-44c5-bbfe-21157a8224ac",
   "metadata": {},
   "source": [
    "<!--NAVIGATION-->\n",
    "<br>\n",
    "\n",
    "<[ [The Abstract](01.00-amgw-The-Abstract.ipynb) | [Contents and Acronyms](00.00-amgw-Contents-and-Acronyms.ipynb) | [Agile Metrics](03.00-amgw-Agile-Metrics.ipynb) ]>"
   ]
  }
 ],
 "metadata": {
  "kernelspec": {
   "display_name": "Python 3",
   "language": "python",
   "name": "python3"
  },
  "language_info": {
   "codemirror_mode": {
    "name": "ipython",
    "version": 3
   },
   "file_extension": ".py",
   "mimetype": "text/x-python",
   "name": "python",
   "nbconvert_exporter": "python",
   "pygments_lexer": "ipython3",
   "version": "3.8.8"
  }
 },
 "nbformat": 4,
 "nbformat_minor": 5
}
