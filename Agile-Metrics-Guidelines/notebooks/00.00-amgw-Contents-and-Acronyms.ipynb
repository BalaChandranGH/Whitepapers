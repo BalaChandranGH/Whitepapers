{
 "cells": [
  {
   "cell_type": "markdown",
   "id": "3e26664b-7138-4b76-b237-77b8efeed23f",
   "metadata": {},
   "source": [
    "# Agile Metrics Guidelines - For Beginners \n",
    "#### Whitepaper by *Balasubramanian Chandran*"
   ]
  },
  {
   "cell_type": "markdown",
   "id": "51427c8b-bada-4dc7-a8e8-1939545a9c57",
   "metadata": {},
   "source": [
    "<br>\n",
    "<img align=\"left\" style=\"padding-right:10px;\" src=\"figures/AM-Book-Cover.png\">"
   ]
  },
  {
   "cell_type": "markdown",
   "id": "52d30b5b-90b1-4b0f-bc60-15513b484ee2",
   "metadata": {},
   "source": [
    "This is the Jupyter notebook version of the **`Agile Metrics Guidelines - For Beginners`** whitepaper written by *Balasubramanian Chandran*; the content is available [on GitHub](https://github.com/BalaChandranGH/Whitepapers/Agile-Metrics-Guidelines)."
   ]
  },
  {
   "cell_type": "markdown",
   "id": "0921f2c4-ed66-419f-a7e3-105397edb6f1",
   "metadata": {},
   "source": [
    "# Table of Contents"
   ]
  },
  {
   "cell_type": "markdown",
   "id": "ca014d2a-1eba-4f96-bb7f-19b8bd5d4e8b",
   "metadata": {},
   "source": [
    "#### [0. Contents and Acronyms](00.00-amgw-Contents-and-Acronyms.ipynb)\n",
    "#### [1. The Abstract](01.00-amgw-The-Abstract.ipynb)\n",
    "#### [2. Agile KPIs](02.00-amgw-Agile-KPIs.ipynb)\n",
    "    2.1. What is a KPI?\n",
    "    2.2. Why use KPIs?\n",
    "    2.3. How to set KPIs?\n",
    "    2.4. Defining KPIs using SMART principle\n",
    "    2.5. KPIs vs Metrics\n",
    "    2.6. Key KPIs\n",
    "#### [3. Agile Metrics](03.00-amgw-Agile-Metrics.ipynb)\n",
    "    3.1. What is a Metric?\n",
    "    3.2. Good use of Metrics\n",
    "    3.3. Bad use of Metrics\n",
    "    3.4. Vanity Metrics\n",
    "    3.5. Actionable vs Vanity Metrics\n",
    "    3.6. How to choose and use agile metrics wisely?\n",
    "#### [4. Outputs vs Outcomes - What to measure?](04.00-amgw-Outputs-vs-Outcomes-What-to-Measure.ipynb)\n",
    "#### [5. Actionable Agile Metrics](05.00-amgw-Actionable-Agile-Metrics.ipynb)\n",
    "* [5.1. Customer Satisfaction Index](05.01-amgw-Customer-Satisfaction-Index.ipynb)\n",
    "* [5.2. Sprint Burndown](05.02-amgw-Sprint-Burndown.ipynb)\n",
    "* [5.3. Velocity](05.03-amgw-Velocity.ipynb)\n",
    "* [5.4. Defects Leakage](05.04-amgw-Defects-Leakage.ipynb)\n",
    "* [5.5. Happiness Index](05.05-amgw-Happiness-Index.ipynb)\n",
    "\n",
    "#### 6. Appendix A\n",
    "* [6.1. Capacity Utilization](06.01-amgw-Capacity-Utilization.ipynb)\n",
    "* [6.2. Commitment Reliability](06.02-amgw-Commitment-Reliability.ipynb)\n",
    "* [6.3. Customer Value Points Delivered](06.03-amgw-Customer-Value-Points-Delivered.ipynb)\n",
    "* [6.4. Effort Estimation Variance](06.04-amgw-Effort-Estimation-Variance.ipynb)\n",
    "* [6.5. Scope Variance](06.05-amgw-Scope-Variance.ipynb)\n",
    "\n",
    "#### [7. References](07.00-amgw-References.ipynb)"
   ]
  },
  {
   "cell_type": "markdown",
   "id": "3b404e39-df4d-4c82-a26a-a5a05fbefa1e",
   "metadata": {
    "tags": []
   },
   "source": [
    "# Acronyms\n",
    "```\n",
    "APAC  - Asia-Pacific\n",
    "CR    - Commitment Reliability\n",
    "CSI   - Customer Satisfaction Index\n",
    "CU    - Capacity Utilization\n",
    "CVPD  - Cusomter Value Points Delivered\n",
    "DDDS  - Defects Detected During Sprint\n",
    "DDPS  - Defects Detected Post Sprint\n",
    "DL    - Defects Leakage\n",
    "EEV   - Effort Estimation Variance\n",
    "HI    - Happiness Index\n",
    "KPI   - Key Performance Indicator\n",
    "SV    - Scope Variance\n",
    "SM    - Scrum Master\n",
    "SMART - Specific, Measurable, Achievable, Relevant or Result-oriented, Time-bound\n",
    "SP    - Story Point\n",
    "```"
   ]
  }
 ],
 "metadata": {
  "kernelspec": {
   "display_name": "Python 3",
   "language": "python",
   "name": "python3"
  },
  "language_info": {
   "codemirror_mode": {
    "name": "ipython",
    "version": 3
   },
   "file_extension": ".py",
   "mimetype": "text/x-python",
   "name": "python",
   "nbconvert_exporter": "python",
   "pygments_lexer": "ipython3",
   "version": "3.8.8"
  }
 },
 "nbformat": 4,
 "nbformat_minor": 5
}
