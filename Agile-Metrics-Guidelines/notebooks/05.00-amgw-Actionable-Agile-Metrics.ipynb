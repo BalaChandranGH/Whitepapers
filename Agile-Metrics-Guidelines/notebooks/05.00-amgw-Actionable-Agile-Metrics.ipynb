{
 "cells": [
  {
   "cell_type": "markdown",
   "id": "f36f4fcb-9542-4ae6-9419-5afd2aae21d8",
   "metadata": {},
   "source": [
    "<!--BOOK_INFORMATION-->\n",
    "<img align=\"left\" style=\"padding-right:10px;\" src=\"figures/AM-Book-Cover-Small.png\"><br>\n",
    "\n",
    "This notebook contains an excerpt from the **`Agile Metrics Guidelines - For Beginners`** whitepaper written by *Balasubramanian Chandran*; the content is available [on GitHub](https://github.com/BalaChandranGH/Whitepapers/Agile-Metrics-Guidelines)."
   ]
  },
  {
   "cell_type": "markdown",
   "id": "ff9b6351-c01f-4f7e-86c1-2e3a069e4027",
   "metadata": {},
   "source": [
    "<br>\n",
    "<!--NAVIGATION-->\n",
    "\n",
    "<[ [Outputs vs Outcomes - What to Measure?](04.00-amgw-Outputs-vs-Outcomes-What-to-Measure.ipynb) | [Contents and Acronyms](00.00-amgw-Contents-and-Acronyms.ipynb) | [Actionable Agile Metrics - Customer Satisfaction Index](05.01-amgw-Customer-Satisfaction-Index.ipynb) ]>"
   ]
  },
  {
   "cell_type": "markdown",
   "id": "7840258e-0f9b-4364-89f4-c64b325cd51a",
   "metadata": {},
   "source": [
    "# 5. Actionable Agile Metrics\n",
    "Though there are numerous metrics available in the industry and used by different organizations, only the following 5 primary metrics are presented in this section.\n",
    "* Customer Satisfaction Index\n",
    "* Sprint Burndown\n",
    "* Velocity\n",
    "* Defects Leakage\n",
    "* Happiness Index\n",
    "\n",
    "The following 5 metrics are presented in Appendix A that can be used in addition to the primary metrics or as alternatives to some of them as well.\n",
    "* Capacity Utilization\n",
    "* Commitment Reliability\n",
    "* Customer Value Points Delivered\n",
    "* Effort Estimation Variance\n",
    "* Scope Variance\n",
    "\n",
    "The tools to generate all these reports were developed by the author of this paper and are available in his repository only."
   ]
  },
  {
   "cell_type": "markdown",
   "id": "28d47a88-0396-44c5-bbfe-21157a8224ac",
   "metadata": {},
   "source": [
    "<!--NAVIGATION-->\n",
    "<br>\n",
    "\n",
    "<[ [Outputs vs Outcomes - What to Measure?](04.00-amgw-Outputs-vs-Outcomes-What-to-Measure.ipynb) | [Contents and Acronyms](00.00-amgw-Contents-and-Acronyms.ipynb) | [Actionable Agile Metrics - Customer Satisfaction Index](05.01-amgw-Customer-Satisfaction-Index.ipynb) ]>"
   ]
  }
 ],
 "metadata": {
  "kernelspec": {
   "display_name": "Python 3",
   "language": "python",
   "name": "python3"
  },
  "language_info": {
   "codemirror_mode": {
    "name": "ipython",
    "version": 3
   },
   "file_extension": ".py",
   "mimetype": "text/x-python",
   "name": "python",
   "nbconvert_exporter": "python",
   "pygments_lexer": "ipython3",
   "version": "3.8.8"
  }
 },
 "nbformat": 4,
 "nbformat_minor": 5
}
