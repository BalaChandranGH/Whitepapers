{
 "cells": [
  {
   "cell_type": "markdown",
   "id": "f36f4fcb-9542-4ae6-9419-5afd2aae21d8",
   "metadata": {},
   "source": [
    "<!--BOOK_INFORMATION-->\n",
    "<img align=\"left\" style=\"padding-right:10px;\" src=\"figures/AM-Book-Cover-Small.png\"><br>\n",
    "\n",
    "This notebook contains an excerpt from the **`Agile Metrics Guidelines - For Beginners`** whitepaper written by *Balasubramanian Chandran*; the content is available [on GitHub](https://github.com/BalaChandranGH/Whitepapers/Agile-Metrics-Guidelines)."
   ]
  },
  {
   "cell_type": "markdown",
   "id": "ff9b6351-c01f-4f7e-86c1-2e3a069e4027",
   "metadata": {},
   "source": [
    "<br>\n",
    "<!--NAVIGATION-->\n",
    "\n",
    "<[ [Agile Metrics](03.00-amgw-Agile-Metrics.ipynb) | [Contents and Acronyms](00.00-amgw-Contents-and-Acronyms.ipynb) | [Actionable Agile Metrics](05.00-amgw-Actionable-Agile-Metrics.ipynb) ]>"
   ]
  },
  {
   "cell_type": "markdown",
   "id": "7840258e-0f9b-4364-89f4-c64b325cd51a",
   "metadata": {},
   "source": [
    "# 4. Outpurs vs Outcomes - What to measure?\n",
    "Need to understand a few things before discussing the differences between the outputs and outcomes.\n",
    "* The goal of any effective metric is to measure the _“outcome”_ rather than the _“output”_.\n",
    "* The outputs are delivered to achieve the outcomes.\n",
    "* `Efficiency:` Efficiency is defined as functioning at an optimum level with the least waste of time/resources.\n",
    "* `Efficacy:` Efficacy is the capacity to produce a desired or intended result.\n",
    "* `Effectiveness:` Effectiveness describes getting an outcome even if it is time-consuming.\n",
    "![](figures/AM-4a-Outputs-vs-Outcomes.png)"
   ]
  },
  {
   "cell_type": "markdown",
   "id": "2c78b592-7186-4379-9c8c-00925350ba1e",
   "metadata": {},
   "source": [
    "### Watermelon Effect\n",
    "![](figures/AM-4b-Watermelon-Effect.png)\n",
    "![](figures/AM-4c-Watermelon-Effect-Text.png)<br>\n",
    "**Figure 4b:** _Watermelon Effect,_ **Image Source:** _Balasubramanian Chandran_"
   ]
  },
  {
   "cell_type": "markdown",
   "id": "28d47a88-0396-44c5-bbfe-21157a8224ac",
   "metadata": {},
   "source": [
    "<!--NAVIGATION-->\n",
    "<br>\n",
    "\n",
    "<[ [Agile Metrics](03.00-amgw-Agile-Metrics.ipynb) | [Contents and Acronyms](00.00-amgw-Contents-and-Acronyms.ipynb) | [Actionable Agile Metrics](05.00-amgw-Actionable-Agile-Metrics.ipynb) ]>"
   ]
  }
 ],
 "metadata": {
  "kernelspec": {
   "display_name": "Python 3",
   "language": "python",
   "name": "python3"
  },
  "language_info": {
   "codemirror_mode": {
    "name": "ipython",
    "version": 3
   },
   "file_extension": ".py",
   "mimetype": "text/x-python",
   "name": "python",
   "nbconvert_exporter": "python",
   "pygments_lexer": "ipython3",
   "version": "3.8.8"
  }
 },
 "nbformat": 4,
 "nbformat_minor": 5
}
