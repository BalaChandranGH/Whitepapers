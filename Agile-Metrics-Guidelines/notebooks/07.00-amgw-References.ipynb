{
 "cells": [
  {
   "cell_type": "markdown",
   "id": "f36f4fcb-9542-4ae6-9419-5afd2aae21d8",
   "metadata": {},
   "source": [
    "<!--BOOK_INFORMATION-->\n",
    "<img align=\"left\" style=\"padding-right:10px;\" src=\"figures/AM-Book-Cover-Small.png\"><br>\n",
    "\n",
    "This notebook contains an excerpt from the **`Agile Metrics Guidelines - For Beginners`** whitepaper written by *Balasubramanian Chandran*; the content is available [on GitHub](https://github.com/BalaChandranGH/Whitepapers/Agile-Metrics-Guidelines)."
   ]
  },
  {
   "cell_type": "markdown",
   "id": "ff9b6351-c01f-4f7e-86c1-2e3a069e4027",
   "metadata": {},
   "source": [
    "<br>\n",
    "<!--NAVIGATION-->\n",
    "\n",
    "<[ [Appendi A - Scope Variance](06.05-amgw-Scope-Variance.ipynb) | [Contents and Acronyms](00.00-amgw-Contents-and-Acronyms.ipynb) ]>"
   ]
  },
  {
   "cell_type": "markdown",
   "id": "7840258e-0f9b-4364-89f4-c64b325cd51a",
   "metadata": {},
   "source": [
    "# 7. References"
   ]
  },
  {
   "cell_type": "markdown",
   "id": "77b09e17-4a2e-4b49-8716-9cc5936f73fb",
   "metadata": {},
   "source": [
    "1. Agile Metrics: 4 Balanced KPIs to Measure Success [_Joel Bancroft-Connors_]<br>\n",
    "   https://appliedframeworks.com/agile-metrics-4-balanced-kpis-to-measure-success/\n",
    "\n",
    "2. Key Performance Indicators [_Peter Wootton_]<br>\n",
    "   https://www.projectmanagement.com/contentPages/wiki.cfm?ID=345150\n",
    "\n",
    "3. Why You Should Choose Actionable Metrics Over Vanity Metrics Every Time [_Alex Castrounis_]<br>\n",
    "   https://www.youtube.com/watch?v=fmEBo9yaQBw\n",
    "\n",
    "4. Difference Between Output and Outcome [_Tabitha Njogu_]<br>\n",
    "   http://www.differencebetween.net/language/difference-between-output-and-outcome/\n",
    "\n",
    "5. Outcomes vs Outputs: What’s The Difference? [_Kirstie Magowan_]<br>\n",
    "   https://www.bmc.com/blogs/outcomes-vs-outputs/\n",
    "\n",
    "6. Agile Testing Metrics that every tester must know [_Sourojit Das_]<br>\n",
    "   https://www.browserstack.com/guide/agile-testing-metrics\n",
    "\n",
    "7. Webinar on Metrics For Agile Teams [_iZenBridge Consultancy Pvt Ltd_]<br>\n",
    "   https://www.youtube.com/watch?v=L1f1OTeREkU\n",
    "\n",
    "8. 17 Agile Metrics To Measure Team Productivity and Quality [_Desmond Motiso_]<br>\n",
    "   https://www.indeed.com/career-advice/career-development/agile-metrics\n",
    "\n",
    "9. The Happiness Metric [_Ben Lyon_]\n",
    "   https://agileavengers.com/resources/sprint-retrospective-ideas/agile-happiness-metric/<br>\n",
    "\n",
    "10. The “Team Happiness Index” [_Othniel Lagablab_]<br>\n",
    "   https://medium.com/illumination/the-team-happiness-index-a78cf19a57c2"
   ]
  },
  {
   "cell_type": "markdown",
   "id": "28d47a88-0396-44c5-bbfe-21157a8224ac",
   "metadata": {},
   "source": [
    "<!--NAVIGATION-->\n",
    "<br>\n",
    "\n",
    "<[ [Appendi A - Scope Variance](06.05-amgw-Scope-Variance.ipynb) | [Contents and Acronyms](00.00-amgw-Contents-and-Acronyms.ipynb) ]>"
   ]
  }
 ],
 "metadata": {
  "kernelspec": {
   "display_name": "Python 3",
   "language": "python",
   "name": "python3"
  },
  "language_info": {
   "codemirror_mode": {
    "name": "ipython",
    "version": 3
   },
   "file_extension": ".py",
   "mimetype": "text/x-python",
   "name": "python",
   "nbconvert_exporter": "python",
   "pygments_lexer": "ipython3",
   "version": "3.8.8"
  }
 },
 "nbformat": 4,
 "nbformat_minor": 5
}
