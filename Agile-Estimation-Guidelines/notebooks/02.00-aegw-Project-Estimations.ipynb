{
 "cells": [
  {
   "cell_type": "markdown",
   "id": "f36f4fcb-9542-4ae6-9419-5afd2aae21d8",
   "metadata": {},
   "source": [
    "<!--BOOK_INFORMATION-->\n",
    "<img align=\"left\" style=\"padding-right:10px;\" src=\"figures/AE-Book-Cover-Small.png\"><br>\n",
    "\n",
    "This notebook contains an excerpt from the **`Agile Estimation Guidelines - For Beginners`** whitepaper written by *Balasubramanian Chandran*; the content is available [on GitHub](https://github.com/BalaChandranGH/Whitepapers/Agile-Estimation-Guidelines)."
   ]
  },
  {
   "cell_type": "markdown",
   "id": "ff9b6351-c01f-4f7e-86c1-2e3a069e4027",
   "metadata": {},
   "source": [
    "<br>\n",
    "<!--NAVIGATION-->\n",
    "\n",
    "<[ [The Abstract](01.00-aegw-The-Abstract.ipynb) | [Contents and Acronyms](00.00-aegw-Contents-and-Acronyms.ipynb) | [Agile Project Estimations](03.00-aegw-Agile-Project-Estimations.ipynb) ]>"
   ]
  },
  {
   "cell_type": "markdown",
   "id": "7840258e-0f9b-4364-89f4-c64b325cd51a",
   "metadata": {},
   "source": [
    "# 2. Project Estimations"
   ]
  },
  {
   "cell_type": "markdown",
   "id": "22b004c3-65de-4dd7-8ab8-690ad474f8d1",
   "metadata": {},
   "source": [
    "![](figures/AE-2a-Plan-vs-Reality.png)\n",
    "<br>\n",
    "**Figure 2a:** _Delivery Plan vs Execution Reality,_ **Image Source:** _Balasubramanian Chandran_"
   ]
  },
  {
   "cell_type": "markdown",
   "id": "eac3ace0-7e2f-4fd0-a8d6-f9765345ba70",
   "metadata": {},
   "source": [
    "## 2.1. What is an estimation in a project?\n",
    "* _`“A process of analyzing requirements to come up with a forecast of effort, resources, time, and budget required to complete a project.”`_\n",
    "* It is a process of approximation based on past data and knowledge, risks, and assumptions.\n",
    "* Also helps to determine the scope of the project."
   ]
  },
  {
   "cell_type": "markdown",
   "id": "503d5cda-2cf2-46af-8a39-5b56b1b2caa9",
   "metadata": {},
   "source": [
    "## 2.2. What is the general process to estimate a project?\n",
    "Once we understand the effort required for a project, we can assign resources to determine the project duration and the project cost. So, the effort, duration, and cost are the 3 early estimates required when we start a project. \n",
    "\n",
    "Following is a process guideline for estimating projects of any type. Remember the estimation order given below.\n",
    "* **Effort:** Do the effort estimation (in hours, days, etc. as needed).\n",
    "* **Resource:** Estimate the human and non-human (such as h/w, s/w, etc.) resource requirements.\n",
    "* **Critical path:** Identify the critical path for the project.\n",
    "* **Duration:** Assign resources to tasks in critical-path and non-critical-path and determine the duration.\n",
    "* **Cost:** Arrive at the total project cost (human costs and non-human costs).\n",
    "* **RAID Log:** Document all the **R**isks, **A**ssumptions, **I**ssues, and **D**ependencies."
   ]
  },
  {
   "cell_type": "markdown",
   "id": "e38edeb7-be79-4830-9721-84d29a67ea8c",
   "metadata": {},
   "source": [
    "### 2.2.1. Effort estimation\n",
    "* **Understand how accurate the estimates need to be** (Accuracy >90% or a ROM with ±25% deviation)\n",
    "   - Typically, the more accurate the estimate, the more details are needed, and the more time is needed.\n",
    "   - If you are asked for a rough order of magnitude (ROM) estimate (say + or - 25%), you might be able to complete the work quickly, at a high level, and with a minimum amount of detail.\n",
    "    - If you must provide an accurate estimate within 10%, you might need to spend quite a bit more time and understand the work at a low level of detail.\n",
    "* **Estimate the base effort for each activity and the entire project**\n",
    "   - There are many techniques you can use to estimate the effort including expert opinion, analogy, top-down, bottom-up, parametric, etc.\n",
    "* **Add effort of specialist resources**\n",
    "   - Make sure you include efforts for part-time and specialty resources. \n",
    "   - _For eg.,_ this could include freelancers, training specialists, procurement, legal, administrative, etc.\n",
    "* **Add contingency effort**\n",
    "   - In a perfect world, all project deliverables would be correct the first time, but in real-world projects, that usually is not the case.\n",
    "   - Workplans that do not consider rework can easily end up underestimating the total effort involved.\n",
    "   - Contingency is used to reflect the uncertainty or risk associated with the estimate.\n",
    "   - If you’re asked to estimate work that is not well defined, you may add up to 50% or more to reflect the uncertainty; on the other hand, if you have done this type of project many times before, perhaps your contingency would be very small — perhaps 5%.\n",
    "* **Add project management time**\n",
    "   - In general, add 10 - 15% of the effort hours for project management.\n",
    "  - For instance, if a project estimate is 12,000 hours, a full-time project manager (1,800 hours) is needed. Or, if the project estimate is 1,000 hours, the project management time would be 150 hours.\n",
    "* **Come up with the total project effort**\n",
    "   - $Total\\ Project\\ Effort = Project\\ Base\\ Effort\\  +\\  Specialist\\ Effort\\  +\\  Contingency\\ Effort\\  +\\  PM\\ Effort$\n",
    "* **Review and adjust as necessary**\n",
    "   - Sometimes when you add up all the components, the estimate seems high or low.\n",
    "   - If your estimate doesn’t look right, go back and make adjustments to your estimating assumptions to better reflect reality.\n",
    "   - If your sponsor thinks the estimate is too high, and you don’t feel comfortable defending it, you have more work to do on the estimate; make sure it seems reasonable to you and that you are prepared to defend it."
   ]
  },
  {
   "cell_type": "markdown",
   "id": "95a59e75-2c61-4999-965e-916b8383950c",
   "metadata": {},
   "source": [
    "### 2.2.2. Resource estimation\n",
    "* Identify all the project resource requirements such as,\n",
    "   - Personnel resource (technical/non-technical, senior/junior with required skillsets).\n",
    "   - Hardware and software resources including licenses."
   ]
  },
  {
   "cell_type": "markdown",
   "id": "043c83fa-b9be-4da8-bc14-12ea5d23b55f",
   "metadata": {},
   "source": [
    "### 2.2.3. Critical path identification\n",
    "* Identify which tasks should be done linearly, i.e., dependent tasks (there could be more than 1 path of dependent tasks).\n",
    "* Identify the tasks that can be done in parallel, i.e., independent tasks.\n",
    "* Identify the critical path, i.e., the longest path from start to finish (pick from point 1 above)."
   ]
  },
  {
   "cell_type": "markdown",
   "id": "34c6bf92-68a4-44f9-ac54-f419a45f04c4",
   "metadata": {},
   "source": [
    "### 2.2.4. Duration estimation\n",
    "* It indicates the minimum time necessary to complete the entire project.\n",
    "* Usually, the critical path determines the duration of the project."
   ]
  },
  {
   "cell_type": "markdown",
   "id": "f4f612fa-caf5-4aea-9774-97c28332bdb2",
   "metadata": {},
   "source": [
    "### 2.2.5. Cost estimation\n",
    "* $Total\\ Project\\ Cost = Personnel\\ Cost\\  +\\  H/w\\ Cost\\  +\\  S/w\\ Cost\\  +\\  Licenses\\ Cost\\  +\\  Any\\ other\\ resource\\ cost$"
   ]
  },
  {
   "cell_type": "markdown",
   "id": "fd587d74-0efd-403a-965f-52c8b68dc2b5",
   "metadata": {},
   "source": [
    "### 2.2.6. RAID Log preparation\n",
    "* Initially, you may not know all the details of a project for certain, therefore, it is important to document all the **R**isks, **A**ssumptions, **I**ssues, and **D**ependencies (**RAID Log**) you are making along with the estimate."
   ]
  },
  {
   "cell_type": "markdown",
   "id": "dc41963e-06a8-4f59-ac22-bd5ebe52e15d",
   "metadata": {},
   "source": [
    "## 2.3. Project Estimation Techniques"
   ]
  },
  {
   "cell_type": "markdown",
   "id": "a8e6bb9e-e0d0-4dd3-b24a-155e7a70e006",
   "metadata": {},
   "source": [
    "### 2.3.1. Bottom-up\n",
    "* Break down the entire project into smaller components and estimate each of them individually.\n",
    "* It requires a detailed analysis of the requirements at the task level, eg., FPA (Function Point Analysis).\n",
    "* This technique is used for projects that demand a contract/ a lot of commitment, eg., Turnkey projects."
   ]
  },
  {
   "cell_type": "markdown",
   "id": "2302b9b5-76d2-40f7-a858-f9755fcbb048",
   "metadata": {},
   "source": [
    "### 2.3.2. Top-down\n",
    "* Start the project with goals and objectives, and break them into work packages (eg., epics or features).\n",
    "* Does not require a detailed analysis of the entire requirement upfront.\n",
    "* Each work package is analyzed in greater detail and assigned to the team members (eg., user stories).\n",
    "* Use this technique if the client needs the project to be rolled out in stages on specific dates for a set of features, eg., Agile projects (mostly T&M; not Turnkey that requires upfront commitments)."
   ]
  },
  {
   "cell_type": "markdown",
   "id": "296f9b9d-fe5d-47ae-808c-548f0bbc1e7e",
   "metadata": {},
   "source": [
    "### 2.3.3. Analogous or Comparative\n",
    "* It is similar to the Top-down approach, but it uses data from previous projects to develop a more accurate assessment.\n",
    "* Historical data and expert judgment play a crucial role in this technique."
   ]
  },
  {
   "cell_type": "markdown",
   "id": "29cd410c-eeee-4ca5-84f2-bb3338aaf46a",
   "metadata": {},
   "source": [
    "### 2.3.4. Parametric\n",
    "* In this technique, an estimate is determined by identifying the unit effort/ cost/ duration, and the number of units required for the project.\n",
    "* Uses historical/ past project data, but it accounts for key differences in each project."
   ]
  },
  {
   "cell_type": "markdown",
   "id": "ace88d4a-9fd7-4847-8fca-164f25962e60",
   "metadata": {},
   "source": [
    "### 2.3.5. Three-point\n",
    "* Often, this technique is used along with the bottom-up approach to improve estimation accuracy.\n",
    "* The bottom-up approach focuses on coming up with one estimate, whereas the three-point technique predicts 3 estimates, viz., Optimistic, Pessimistic, and Most Likely scenarios.\n",
    "* Commonly known as PERT (Program Evaluation and Review Technique).\n",
    "* $Estimate\\  =\\  (B + W + 4*M)\\  /\\  6,\\  where\\  B\\ – Best\\ case,\\  W\\ – Worst\\ case,\\  and\\  M\\ – Most\\ Likely$"
   ]
  },
  {
   "cell_type": "markdown",
   "id": "300a1b88-b3d9-488b-8f5a-280241b10e4f",
   "metadata": {},
   "source": [
    "### 2.3.6. Expert judgment\n",
    "* In this technique, the estimations rely on the expertise of the PM and the team members.\n",
    "* Historical data and expert judgment play a crucial role in this technique.\n",
    "* A very popular technique with experience PMs because it is simple and fast to use.\n",
    "* Often, this technique is used with the bottom-up or top-down approach to improve estimation accuracy."
   ]
  },
  {
   "cell_type": "markdown",
   "id": "745502a6-876c-44a7-ae08-15f1b4423e02",
   "metadata": {},
   "source": [
    "## 2.4. Benefits of project estimations\n",
    "* Developing an accurate project estimation is crucial because it can ensure we have sufficient resources, time, and budget to complete the project successfully. \n",
    "* Understanding how to use different project estimation techniques can benefit us by ensuring we choose the best one for our specific project. \n",
    "* Estimations also provide a way of measuring progress against expectations. \n",
    "* These estimation techniques can help in a project to:\n",
    "   - Assess the scope, effort, time, cost, quality, risks, assumptions, issues, and dependencies\n",
    "   - Forecast deadlines/ milestones\n",
    "   - Allocate right resources\n",
    "   - Prepare project proposals\n",
    "   - Communicate expectations with clients\n",
    "   - Provide updates to the stakeholders"
   ]
  },
  {
   "cell_type": "markdown",
   "id": "8d548af9-1898-41a7-b1dc-ddcc316ff02a",
   "metadata": {},
   "source": [
    "## 2.5. Traditional Vs Agile Estimations\n",
    "![](figures/AE-2b-Traditiona-vs-Agile-Est.png)"
   ]
  },
  {
   "cell_type": "markdown",
   "id": "28d47a88-0396-44c5-bbfe-21157a8224ac",
   "metadata": {},
   "source": [
    "<!--NAVIGATION-->\n",
    "<br>\n",
    "\n",
    "<[ [The Abstract](01.00-aegw-The-Abstract.ipynb) | [Contents and Acronyms](00.00-aegw-Contents-and-Acronyms.ipynb) | [Agile Project Estimations](03.00-aegw-Agile-Project-Estimations.ipynb) ]>"
   ]
  }
 ],
 "metadata": {
  "kernelspec": {
   "display_name": "Python 3",
   "language": "python",
   "name": "python3"
  },
  "language_info": {
   "codemirror_mode": {
    "name": "ipython",
    "version": 3
   },
   "file_extension": ".py",
   "mimetype": "text/x-python",
   "name": "python",
   "nbconvert_exporter": "python",
   "pygments_lexer": "ipython3",
   "version": "3.8.8"
  }
 },
 "nbformat": 4,
 "nbformat_minor": 5
}
