{
 "cells": [
  {
   "cell_type": "markdown",
   "id": "f36f4fcb-9542-4ae6-9419-5afd2aae21d8",
   "metadata": {},
   "source": [
    "<!--BOOK_INFORMATION-->\n",
    "<img align=\"left\" style=\"padding-right:10px;\" src=\"figures/AE-Book-Cover-Small.png\"><br>\n",
    "\n",
    "This notebook contains an excerpt from the **`Agile Estimation Guidelines - For Beginners`** whitepaper written by *Balasubramanian Chandran*; the content is available [on GitHub](https://github.com/BalaChandranGH/Whitepapers/Agile-Estimation-Guidelines)."
   ]
  },
  {
   "cell_type": "markdown",
   "id": "ff9b6351-c01f-4f7e-86c1-2e3a069e4027",
   "metadata": {},
   "source": [
    "<br>\n",
    "<!--NAVIGATION-->\n",
    "\n",
    "<[ [Agile Estimation Techniques - Analogous](05.02-aegw-Analogous.ipynb) | [Contents and Acronyms](00.00-aegw-Contents-and-Acronyms.ipynb) | [Agile Estimation Techniques - Bucket System](05.04-aegw-Bucket-System.ipynb) ]>"
   ]
  },
  {
   "cell_type": "markdown",
   "id": "7840258e-0f9b-4364-89f4-c64b325cd51a",
   "metadata": {},
   "source": [
    "# 5. Agile Estimation Techniques"
   ]
  },
  {
   "cell_type": "markdown",
   "id": "50186f5f-d0dc-4cf4-a311-9aac8345221a",
   "metadata": {},
   "source": [
    "## 5.3. Planning Poker\n",
    "![](figures/AE-5c-Planning-Poker.png)\n",
    "<br>\n",
    "**Figure 5c:** _Planning Poker Estimation,_ **Image Source:** _Balasubramanian Chandran_"
   ]
  },
  {
   "cell_type": "markdown",
   "id": "9cbe335b-93b1-4968-9923-b10e4b20b6c2",
   "metadata": {},
   "source": [
    "* This is a relative estimation technique as well.\n",
    "* This technique is usually used at the later stage of a project to estimate user stories.\n",
    "* Planning Poker Estimation steps:\n",
    "   - **`Step 1:`** Decide the number series such as, \n",
    "      - Fibonacci numbers: 0, 1, 2, 3, 5, 8, 13, 21, 34, etc. (OR) \n",
    "      - Modified Fibonacci numbers: 0, 0.5, 1, 2, 3, 5, 8, 13, 20, 40, 100, etc.\n",
    "      - Keep the number-coded playing cards ready.\n",
    "   - **`Step 2:`** Decide the team members who will be involved in the estimation process.\n",
    "   - **`Step 3:`** Decide the meeting mode (face-to-face in a room or any online tool).\n",
    "   - **`Step 4:`** Distribute the number-coded cards across the team.\n",
    "   - **`Step 5:`** The PO/BA describes an item (user story) to the team, the team can ask any related queries, and the questions are answered by the PO/BA.\n",
    "   - **`Step 6:`** Each team member secretly selects a card for an estimate, which is revealed when all the cards are turned over for that particular item.\n",
    "   - **`Step 7:`** The card with the most voting is the finalized estimate for the item under discussion.\n",
    "   - **`Step 8:`** In case of uneven estimates, further discussions happen, and the next round of voting commences to come up with an estimate everyone agrees with.\n",
    "   - **`Step 9:`** Pick up the next item, go to Step 5, and repeat this process until all items are estimated.\n",
    "* Many online Planning Poker tools are available that can be used instantaneously for agile estimations."
   ]
  },
  {
   "cell_type": "markdown",
   "id": "28d47a88-0396-44c5-bbfe-21157a8224ac",
   "metadata": {},
   "source": [
    "<!--NAVIGATION-->\n",
    "<br>\n",
    "\n",
    "<[ [Agile Estimation Techniques - Analogous](05.02-aegw-Analogous.ipynb) | [Contents and Acronyms](00.00-aegw-Contents-and-Acronyms.ipynb) | [Agile Estimation Techniques - Bucket System](05.04-aegw-Bucket-System.ipynb) ]>"
   ]
  }
 ],
 "metadata": {
  "kernelspec": {
   "display_name": "Python 3",
   "language": "python",
   "name": "python3"
  },
  "language_info": {
   "codemirror_mode": {
    "name": "ipython",
    "version": 3
   },
   "file_extension": ".py",
   "mimetype": "text/x-python",
   "name": "python",
   "nbconvert_exporter": "python",
   "pygments_lexer": "ipython3",
   "version": "3.8.8"
  }
 },
 "nbformat": 4,
 "nbformat_minor": 5
}
