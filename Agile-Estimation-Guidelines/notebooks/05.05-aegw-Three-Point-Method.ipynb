{
 "cells": [
  {
   "cell_type": "markdown",
   "id": "f36f4fcb-9542-4ae6-9419-5afd2aae21d8",
   "metadata": {},
   "source": [
    "<!--BOOK_INFORMATION-->\n",
    "<img align=\"left\" style=\"padding-right:10px;\" src=\"figures/AE-Book-Cover-Small.png\"><br>\n",
    "\n",
    "This notebook contains an excerpt from the **`Agile Estimation Guidelines - For Beginners`** whitepaper written by *Balasubramanian Chandran*; the content is available [on GitHub](https://github.com/BalaChandranGH/Whitepapers/Agile-Estimation-Guidelines)."
   ]
  },
  {
   "cell_type": "markdown",
   "id": "ff9b6351-c01f-4f7e-86c1-2e3a069e4027",
   "metadata": {},
   "source": [
    "<br>\n",
    "<!--NAVIGATION-->\n",
    "\n",
    "<[ [Agile Estimation Techniques - Bucket System](05.04-aegw-Bucket-System.ipynb) | [Contents and Acronyms](00.00-aegw-Contents-and-Acronyms.ipynb) | [Agile Project Duration and Cost Estimation Guidelines](06.00-aegw-Agile-Project-Duration-and-Cost-Estimation-Guidelines.ipynb) ]>"
   ]
  },
  {
   "cell_type": "markdown",
   "id": "7840258e-0f9b-4364-89f4-c64b325cd51a",
   "metadata": {},
   "source": [
    "# 5. Agile Estimation Techniques"
   ]
  },
  {
   "cell_type": "markdown",
   "id": "50186f5f-d0dc-4cf4-a311-9aac8345221a",
   "metadata": {},
   "source": [
    "## 5.5. Three-Point Method\n",
    "![](figures/AE-5e1-Three-Point-Method.png)\n",
    "<br>\n",
    "**Figure 5e1:** _Three-Point Method Estimation,_ **Image Source:** _Balasubramanian Chandran_"
   ]
  },
  {
   "cell_type": "markdown",
   "id": "9cbe335b-93b1-4968-9923-b10e4b20b6c2",
   "metadata": {},
   "source": [
    "* A top-down and quantitative technique to estimate the effort, duration, and cost of a new project.\n",
    "* This technique is usually used at the later stage of a project (to estimate PBIs), however, it can be used at the initial stage as well to come up with the project effort, duration, and cost.\n",
    "* This technique would produce better accuracy than T-Shirt Size, Analogous & Bucket System estimations.\n",
    "* Three-Pint Method Estimation steps:\n",
    "   - **`Step 1:`** Arrive at the Product Backlog with prioritized PBIs (usually done by the PO/BA). \n",
    "   - **`Step 2:`** Decide the team members who will be involved in the estimation process.\n",
    "   - **`Step 3:`** Decide the meeting mode (face-to-face in a room or any online tool).\n",
    "   - **`Step 4:`** For each PBI, find 3 values such as,<br>\n",
    "        **`O`**` - Optimistic estimate`, i.e., the `Best Case` scenario with no impediments<br>\n",
    "        **`P`**` – Pessimistic estimate`, i.e., the `Worst case` scenario with all anticipated impediments<br>\n",
    "        **`M`**` – Most Likely scenario`, i.e., the `realistic` scenario with some impediments\n",
    "   - **`Step 5:`** Calculate the average using the formulas given below.\n",
    "     There are 2 ways of calculating the average.<br>\n",
    "       `1. Triangular Average = `**(O + M + P) / 3**<br>\n",
    "       `2. Beta Average     `**E = (O + 4*M + P) / 6**<br>\n",
    "     _`NOTE:`_ Beta Average, aka PERT, would give better accuracy than the Triangular Average.\n",
    "   - **`Step 6:`** Calculate the Standard Deviation (SD) using the formula given below.<br>\n",
    "       `Standard Deviation, `**SD = (P – O) / 6**\n",
    "   - **`Step 7:`** Repeat Steps 4 through Step 6 for all PBIs.\n",
    "   - **`Step 8:`** Calculate the estimate for the project, _where m = Number of PBIs_.<br>\n",
    "     ![](figures/AE-5e2-Three-Point-Formula1.png)\n",
    "   - **`Step 9:`** Calculate the Standard Deviation for the project, _where m = Number of PBIs_.\n",
    "     ![](figures/AE-5e3-Three-Point-Formula2.png)\n",
    "   - **`Step 10:`** Convert the Project Estimate to Confidence Levels.<br>\n",
    "     It’s advised to provide the estimates in a range with a level of confidence as given below.<br>\n",
    "     ![](figures/AE-5e4-Three-Point-CL.png)"
   ]
  },
  {
   "cell_type": "markdown",
   "id": "28d47a88-0396-44c5-bbfe-21157a8224ac",
   "metadata": {},
   "source": [
    "<!--NAVIGATION-->\n",
    "<br>\n",
    "\n",
    "<[ [Agile Estimation Techniques - Bucket System](05.04-aegw-Bucket-System.ipynb) | [Contents and Acronyms](00.00-aegw-Contents-and-Acronyms.ipynb) | [Agile Project Duration and Cost Estimation Guidelines](06.00-aegw-Agile-Project-Duration-and-Cost-Estimation-Guidelines.ipynb) ]>"
   ]
  }
 ],
 "metadata": {
  "kernelspec": {
   "display_name": "Python 3",
   "language": "python",
   "name": "python3"
  },
  "language_info": {
   "codemirror_mode": {
    "name": "ipython",
    "version": 3
   },
   "file_extension": ".py",
   "mimetype": "text/x-python",
   "name": "python",
   "nbconvert_exporter": "python",
   "pygments_lexer": "ipython3",
   "version": "3.8.8"
  }
 },
 "nbformat": 4,
 "nbformat_minor": 5
}
