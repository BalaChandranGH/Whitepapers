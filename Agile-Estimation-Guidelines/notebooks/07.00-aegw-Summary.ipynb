{
 "cells": [
  {
   "cell_type": "markdown",
   "id": "f36f4fcb-9542-4ae6-9419-5afd2aae21d8",
   "metadata": {},
   "source": [
    "<!--BOOK_INFORMATION-->\n",
    "<img align=\"left\" style=\"padding-right:10px;\" src=\"figures/AE-Book-Cover-Small.png\"><br>\n",
    "\n",
    "This notebook contains an excerpt from the **`Agile Estimation Guidelines - For Beginners`** whitepaper written by *Balasubramanian Chandran*; the content is available [on GitHub](https://github.com/BalaChandranGH/Whitepapers/Agile-Estimation-Guidelines)."
   ]
  },
  {
   "cell_type": "markdown",
   "id": "ff9b6351-c01f-4f7e-86c1-2e3a069e4027",
   "metadata": {},
   "source": [
    "<br>\n",
    "<!--NAVIGATION-->\n",
    "\n",
    "<[ [Agile Project Duration and Cost Estimation Guidelines](06.00-aegw-Agile-Project-Duration-and-Cost-Estimation-Guidelines.ipynb) | [Contents and Acronyms](00.00-aegw-Contents-and-Acronyms.ipynb) | [References](08.00-aegw-References.ipynb) ]>"
   ]
  },
  {
   "cell_type": "markdown",
   "id": "7840258e-0f9b-4364-89f4-c64b325cd51a",
   "metadata": {},
   "source": [
    "# 6. Agile Project Duration and Cost Estimation Guidlines"
   ]
  },
  {
   "cell_type": "markdown",
   "id": "e12edd34-a529-44ce-bb86-717970158080",
   "metadata": {},
   "source": [
    "## 7.1. Agile Estimation - Use Case Summary\n",
    "![](figures/AE-7a-Usecase-Summary.png)\n",
    "<br>\n",
    "**Figure 7a:** _Use Case Summary,_ **Image Source:** _Balasubramanian Chandran_"
   ]
  },
  {
   "cell_type": "markdown",
   "id": "8db518db-1e68-4cf2-a154-d807fb2b3190",
   "metadata": {},
   "source": [
    "## 7.2. Agile Estimation - Use Case Details\n",
    "![](figures/AE-7b-Usecase-Details.png)"
   ]
  },
  {
   "cell_type": "markdown",
   "id": "28d47a88-0396-44c5-bbfe-21157a8224ac",
   "metadata": {},
   "source": [
    "<!--NAVIGATION-->\n",
    "<br>\n",
    "\n",
    "<[ [Agile Project Duration and Cost Estimation Guidelines](06.00-aegw-Agile-Project-Duration-and-Cost-Estimation-Guidelines.ipynb) | [Contents and Acronyms](00.00-aegw-Contents-and-Acronyms.ipynb) | [References](08.00-aegw-References.ipynb) ]>"
   ]
  }
 ],
 "metadata": {
  "kernelspec": {
   "display_name": "Python 3",
   "language": "python",
   "name": "python3"
  },
  "language_info": {
   "codemirror_mode": {
    "name": "ipython",
    "version": 3
   },
   "file_extension": ".py",
   "mimetype": "text/x-python",
   "name": "python",
   "nbconvert_exporter": "python",
   "pygments_lexer": "ipython3",
   "version": "3.8.8"
  }
 },
 "nbformat": 4,
 "nbformat_minor": 5
}
