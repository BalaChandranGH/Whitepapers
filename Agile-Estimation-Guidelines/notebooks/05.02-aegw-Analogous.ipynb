{
 "cells": [
  {
   "cell_type": "markdown",
   "id": "f36f4fcb-9542-4ae6-9419-5afd2aae21d8",
   "metadata": {},
   "source": [
    "<!--BOOK_INFORMATION-->\n",
    "<img align=\"left\" style=\"padding-right:10px;\" src=\"figures/AE-Book-Cover-Small.png\"><br>\n",
    "\n",
    "This notebook contains an excerpt from the **`Agile Estimation Guidelines - For Beginners`** whitepaper written by *Balasubramanian Chandran*; the content is available [on GitHub](https://github.com/BalaChandranGH/Whitepapers/Agile-Estimation-Guidelines)."
   ]
  },
  {
   "cell_type": "markdown",
   "id": "ff9b6351-c01f-4f7e-86c1-2e3a069e4027",
   "metadata": {},
   "source": [
    "<br>\n",
    "<!--NAVIGATION-->\n",
    "\n",
    "<[ [Agile Estimation Techniques - T-Shirt Size](05.01-aegw-T-Shirt-Size.ipynb) | [Contents and Acronyms](00.00-aegw-Contents-and-Acronyms.ipynb) | [Agile Estimation Techniques - Planning Poker](05.03-aegw-Planning-Poker.ipynb) ]>"
   ]
  },
  {
   "cell_type": "markdown",
   "id": "7840258e-0f9b-4364-89f4-c64b325cd51a",
   "metadata": {},
   "source": [
    "# 5. Agile Estimation Techniques"
   ]
  },
  {
   "cell_type": "markdown",
   "id": "50186f5f-d0dc-4cf4-a311-9aac8345221a",
   "metadata": {},
   "source": [
    "## 5.2. Analogous\n",
    "![](figures/AE-5b1-Analogous.png)\n",
    "<br>\n",
    "**Figure 5b1:** _Analogous Estimation,_ **Image Source:** _Balasubramanian Chandran_"
   ]
  },
  {
   "cell_type": "markdown",
   "id": "9cbe335b-93b1-4968-9923-b10e4b20b6c2",
   "metadata": {},
   "source": [
    "* A top-down and quantitative technique to estimate the effort, duration, and cost of a new project.\n",
    "* Uses a combination of past/ historical data from similar projects and expert judgment.\n",
    "* The estimation can be done quickly but it is less accurate as it relies on judgment.\n",
    "* The estimation from this technique is a ROM (Rough Order of Magnitude).\n",
    "* Used to estimate, at the very initial stage of the project, with limited information about the project.\n",
    "* When to use the Analogous estimation technique?\n",
    "   - In the initial stage of the project\n",
    "   - The availability of estimation resources is limited\n",
    "   - The availability of project details is little\n",
    "   - Only a rough estimate is needed\n",
    "   - Expert judgment is needed\n",
    "* Analogous vs Parametric estimations:\n",
    "     ![](figures/AE-5b2-Analogous-vs-Parametric.png)"
   ]
  },
  {
   "cell_type": "markdown",
   "id": "28d47a88-0396-44c5-bbfe-21157a8224ac",
   "metadata": {},
   "source": [
    "<!--NAVIGATION-->\n",
    "<br>\n",
    "\n",
    "<[ [Agile Estimation Techniques - T-Shirt Size](05.01-aegw-T-Shirt-Size.ipynb) | [Contents and Acronyms](00.00-aegw-Contents-and-Acronyms.ipynb) | [Agile Estimation Techniques - Planning Poker](05.03-aegw-Planning-Poker.ipynb) ]>"
   ]
  }
 ],
 "metadata": {
  "kernelspec": {
   "display_name": "Python 3",
   "language": "python",
   "name": "python3"
  },
  "language_info": {
   "codemirror_mode": {
    "name": "ipython",
    "version": 3
   },
   "file_extension": ".py",
   "mimetype": "text/x-python",
   "name": "python",
   "nbconvert_exporter": "python",
   "pygments_lexer": "ipython3",
   "version": "3.8.8"
  }
 },
 "nbformat": 4,
 "nbformat_minor": 5
}
