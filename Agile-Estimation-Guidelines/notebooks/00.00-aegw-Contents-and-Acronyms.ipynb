{
 "cells": [
  {
   "cell_type": "markdown",
   "id": "3e26664b-7138-4b76-b237-77b8efeed23f",
   "metadata": {},
   "source": [
    "# Agile Estimation Guidelines - For Beginners \n",
    "#### Whitepaper by *Balasubramanian Chandran*"
   ]
  },
  {
   "cell_type": "markdown",
   "id": "51427c8b-bada-4dc7-a8e8-1939545a9c57",
   "metadata": {},
   "source": [
    "<br>\n",
    "<img align=\"left\" style=\"padding-right:10px;\" src=\"figures/AE-Book-Cover.png\">"
   ]
  },
  {
   "cell_type": "markdown",
   "id": "52d30b5b-90b1-4b0f-bc60-15513b484ee2",
   "metadata": {},
   "source": [
    "This is the Jupyter notebook version of the **`Agile Estimation Guidelines - For Beginners`** whitepaper written by *Balasubramanian Chandran*; the content is available [on GitHub](https://github.com/BalaChandranGH/Whitepapers/Agile-Estimation-Guidelines)."
   ]
  },
  {
   "cell_type": "markdown",
   "id": "0921f2c4-ed66-419f-a7e3-105397edb6f1",
   "metadata": {},
   "source": [
    "# Table of Contents"
   ]
  },
  {
   "cell_type": "markdown",
   "id": "ca014d2a-1eba-4f96-bb7f-19b8bd5d4e8b",
   "metadata": {},
   "source": [
    "#### [0. Contents and Acronyms](00.00-aegw-Contents-and-Acronyms.ipynb)\n",
    "#### [1. The Abstract](01.00-aegw-The-Abstract.ipynb)\n",
    "#### [2. Project Estimations](02.00-aegw-Project-Estimations.ipynb)\n",
    "    2.1. What is an estimation in a project?\n",
    "    2.2. What is the general process to estimate a project?\n",
    "    2.3. Project estimation techniques\n",
    "    2.4. Benefits of project estimations\n",
    "    2.5. Traditional vs Agile estimations\n",
    "#### [3. Agile Project Estimations](03.00-aegw-Agile-Project-Estimations.ipynb)\n",
    "    3.1. What is an agile estimation?\n",
    "    3.2. Why run agile estimations?\n",
    "    3.3. Steps to successful Story Point estimation in agile\n",
    "    3.4. MoSCow method to prioritize requirements\n",
    "#### [4. Agile Estimation - Process Flow](04.00-aegw-Agile-Estimation-Process-Flow.ipynb)\n",
    "    4.1. Agile Estimation - Process Flow Diagram\n",
    "#### 5. Agile Estimation Techniques\n",
    "* [5.1. T-Shirt Size](05.01-aegw-T-Shirt-Size.ipynb)\n",
    "* [5.2. Analogous](05.02-aegw-Analogous.ipynb)\n",
    "* [5.3. Planning Poker](05.03-aegw-Planning-Poker.ipynb)\n",
    "* [5.4. Bucket System](05.04-aegw-Bucket-System.ipynb)\n",
    "* [5.5. Three-Point Method](05.05-aegw-Three-Point-Method.ipynb)\n",
    "\n",
    "#### [6. Agile Project Duration and Cost Estimation Guidelines](06.00-aegw-Agile-Project-Duration-and-Cost-Estimation-Guidelines.ipynb)\n",
    "    6.1. Agile Estimation - Use Case Summary\n",
    "    6.2. Agile Estimation - Uase Case Details\n",
    "#### [7. Summary](07.00-aegw-Summary.ipynb)\n",
    "#### [8. References](08.00-aegw-References.ipynb)"
   ]
  },
  {
   "cell_type": "markdown",
   "id": "3b404e39-df4d-4c82-a26a-a5a05fbefa1e",
   "metadata": {
    "tags": []
   },
   "source": [
    "# Acronyms\n",
    "```\n",
    "BA     - Business Analyst\n",
    "BRD    - Business Requirements Document\n",
    "CTC    - Cost To Company\n",
    "FP     - Fixed Price\n",
    "FPA    - Function Point Analysis\n",
    "FRD    - Functional Requirements Document\n",
    "MoSCoW - Must Have, Should Have, Could Have, Would Have\n",
    "MVP    - Minimum Viable Product\n",
    "PB     - Product Backlog\n",
    "PBI    - Product Backlog Item\n",
    "PERT   - Program Evaluation and Review Technique\n",
    "PM     - Project Manager / Project Management\n",
    "PO     - Product Owner\n",
    "RAID   - Risks, Assumptions, Issues, Dependencies\n",
    "ROM    - Rough Order of Magnitude\n",
    "SA     - Solution Architect\n",
    "SD     - Senior Developer\n",
    "SP     - Story Point\n",
    "T&M    - Time & Material\n",
    "UX     - User Experience\n",
    "UXD    - User Experience Designer \n",
    "```"
   ]
  }
 ],
 "metadata": {
  "kernelspec": {
   "display_name": "Python 3",
   "language": "python",
   "name": "python3"
  },
  "language_info": {
   "codemirror_mode": {
    "name": "ipython",
    "version": 3
   },
   "file_extension": ".py",
   "mimetype": "text/x-python",
   "name": "python",
   "nbconvert_exporter": "python",
   "pygments_lexer": "ipython3",
   "version": "3.8.8"
  }
 },
 "nbformat": 4,
 "nbformat_minor": 5
}
