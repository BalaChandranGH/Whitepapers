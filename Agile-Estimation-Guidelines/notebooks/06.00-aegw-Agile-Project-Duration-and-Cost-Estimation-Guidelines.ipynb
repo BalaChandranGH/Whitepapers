{
 "cells": [
  {
   "cell_type": "markdown",
   "id": "f36f4fcb-9542-4ae6-9419-5afd2aae21d8",
   "metadata": {},
   "source": [
    "<!--BOOK_INFORMATION-->\n",
    "<img align=\"left\" style=\"padding-right:10px;\" src=\"figures/AE-Book-Cover-Small.png\"><br>\n",
    "\n",
    "This notebook contains an excerpt from the **`Agile Estimation Guidelines - For Beginners`** whitepaper written by *Balasubramanian Chandran*; the content is available [on GitHub](https://github.com/BalaChandranGH/Whitepapers/Agile-Estimation-Guidelines)."
   ]
  },
  {
   "cell_type": "markdown",
   "id": "ff9b6351-c01f-4f7e-86c1-2e3a069e4027",
   "metadata": {},
   "source": [
    "<br>\n",
    "<!--NAVIGATION-->\n",
    "\n",
    "<[ [Agile Estimation Techniques - Three-Point Method](05.05-aegw-Three-Point-Method.ipynb) | [Contents and Acronyms](00.00-aegw-Contents-and-Acronyms.ipynb) | [Summary](07.00-aegw-Summary.ipynb) ]>"
   ]
  },
  {
   "cell_type": "markdown",
   "id": "7840258e-0f9b-4364-89f4-c64b325cd51a",
   "metadata": {},
   "source": [
    "# 6. Agile Project Duration and Cost Estimation Guidlines"
   ]
  },
  {
   "cell_type": "markdown",
   "id": "9cbe335b-93b1-4968-9923-b10e4b20b6c2",
   "metadata": {},
   "source": [
    "Following is the step-by-step guideline to find out the project duration and project cost for both Fixed Price (FP) and Time & Material (T&M) projects.\n",
    "\n",
    "**`Step 1:`** Complete the _**Project Backlog**_ containing all the user stories, duly prioritized as per the MoSCoW method.\n",
    "\n",
    "**`Step 2:`** _**Estimate the User Stories in SP**_ with the help of experts/senior developers considering the average \n",
    "skillsets (may use Planning Poker).\n",
    "\n",
    "**`Step 3:`** Do the _**SP_to_Hours Mapping**_ (approx. 1 SP = 8 hours).\n",
    "\n",
    "**`Step 4:`** Identify the _**Estimation Accuracy**_ in X%.\n",
    "   - For eg., if the Estimation Accuracy is 80%, then the Estimated SPs can go up by 20% or go down by 20%, and hence the Project Duration & Cost.\n",
    "\n",
    "**`Step 5:`** Find out the _**Development Team Size**_ (A + B).\n",
    "* A) Number of senior developers\n",
    "* B) Number of junior developers\n",
    "\n",
    "**`Step 6:`** Decide the _**Number of Scrum Masters**_ required.\n",
    "\n",
    "**`Step 7:`** Decide the _**Number of Business Days**_ in a week (usually 5).\n",
    "\n",
    "**`Step 8:`** Decide the _**Business Hours per Day**_ (usually 8).\n",
    "\n",
    "**`Step 9:`** Decide the _**Sprint Duration**_.<br>\n",
    "![](figures/AE-6a-Sprint-Duration.png)\n",
    "\n",
    "**`Step 10:`** Decide the _**Productivity % per Day**_.<br>\n",
    "![](figures/AE-6b-Productivity-per-Day.png)\n",
    "\n",
    "**`Step 11:`** Identify the _**CTC**_, i.e., the Loaded cost for:\n",
    "   - Senior Developer\n",
    "   - Junior Developer\n",
    "   - Scum Master"
   ]
  },
  {
   "cell_type": "markdown",
   "id": "0388d541-3d0b-479c-94bd-39bcec15dad3",
   "metadata": {},
   "source": [
    "**`Step 12:`** Calculate the _**Team Capacity in Hours**_ for 1 Sprint.\n",
    "   * Find out the Team Capacity for 3 scenarios: Best case, Worst case, and Most Likely.\n",
    "     $Team\\ Capacity\\  =\\  (Number\\ of\\ Senior\\ Developers\\  *\\  Sprint\\ Duration\\ in\\ Business\\ Days\\  *\\  Business\\ Hours\\ per\\ Day\\  *\\  Productivity)\\  +\\  (Number\\ of\\ Junior\\ Developers\\  *\\  Sprint Duration\\ in\\ Business\\ Days\\  *\\  Business\\ Hours\\ per\\ Day\\  *\\  Productivity)$\n",
    "\n",
    "**`Step 13:`** Calculate the _**Team Velocity in SPs**_.\n",
    "   * Find out the Team Velocity for 3 scenarios: Best case, Worst case, and Most Likely.<br>\n",
    "     $Team\\ Velocity\\  =\\  (Team\\ Capacity)\\  /\\  (SP\\_to\\_Hours\\ Mapping)$\n",
    "\n",
    "**`Step 14:`** Calculate the _**Sprint Cost**_ (in $$).\n",
    "$Sprint\\ Cost\\  =\\  (Number\\ of\\ Senior\\ Developers\\  *\\  Sprint\\ Duration\\ in\\ Days\\  *\\  Business\\ Hours\\ per\\ Day\\  *\\  CTC\\ for\\  Senior\\ Developer)\\  +  (Number\\ of\\ Junior\\ Developers\\  *\\  Sprint\\ Duration\\ in\\ Days\\  *  Business\\ Hours\\ per\\ Day\\  *\\  CTC\\ for\\ Junior\\ Developer)\\  +  (Number\\ of\\ Scrum\\ Masters\\  *\\  Sprint\\ Duration\\ in\\ Days\\  *  Business\\ Hours\\ per\\ Day\\  *\\  CTC\\ for\\ Scrum\\ Master)$\n",
    "\n",
    "**`Step 15:`** The estimations may be asked for the following 3 scenarios:\n",
    "   - _**Scenario 1:**_ _`Find out the Project Duration.`_ \n",
    "        - In this case, the Project Size estimated in Step 2 is known and the Project Budget is given.\n",
    "   - _**Scenario 2:**_ _`Find out the Project Cost.`_ \n",
    "        - In this case, the Project Size estimated in Step 2 is known and the Project Duration is given.\n",
    "   - _**`Scenario 3:`** _`Find out both the Project Duration and Cost.`_ \n",
    "        - In this case, only the Project Size estimated in Step 2 is known.\n",
    "     - For all 3 scenarios, come up with the estimates for the Best case, Worst case, and Most Likely case.\n",
    "\n",
    "**`Step 16:`** For all 3 scenarios, calculate the _**Adjusted Estimates**_ using the following formula:\n",
    "   $Adjusted\\ Estimate\\  =\\  [Best\\ case\\  +\\  Worst\\ case\\  +\\  (4\\  *\\  Most\\ Likely\\ case)]\\  /\\  6$\n",
    "\n",
    "**`Step 17:`** _**Incorporate the Estimation Accuracy**_ into the Project Duration and the Project Cost, for the Best cases, \n",
    "Wort cases, and Adjusted Estimates.\n",
    "\n",
    "**`Step 18:`** For _**Fixed Price (FP)**_ projects, give _**only the Adjusted Estimates**_ in all 3 scenarios.\n",
    "\n",
    "**`Step 19:`** For _**Time & Material (T&M)**_ projects, give the _**estimates in a range (Best case & Worst case)**_ in all 3 \n",
    "scenarios.\n",
    "\n",
    "**`Step 20:`** Always include the _**Public/National holidays**_ in the project plan before arriving at the Project Start and \n",
    "End dates.\n",
    "\n",
    "**`Step 21:`** It's always a good practice to submit a _**RAID Log**_ along with project plans (Duration, Cost, etc.) so that the \n",
    "expectations are set clearly."
   ]
  },
  {
   "cell_type": "markdown",
   "id": "28d47a88-0396-44c5-bbfe-21157a8224ac",
   "metadata": {},
   "source": [
    "<!--NAVIGATION-->\n",
    "<br>\n",
    "\n",
    "<[ [Agile Estimation Techniques - Three-Point Method](05.05-aegw-Three-Point-Method.ipynb) | [Contents and Acronyms](00.00-aegw-Contents-and-Acronyms.ipynb) | [Summary](07.00-aegw-Summary.ipynb) ]>"
   ]
  }
 ],
 "metadata": {
  "kernelspec": {
   "display_name": "Python 3",
   "language": "python",
   "name": "python3"
  },
  "language_info": {
   "codemirror_mode": {
    "name": "ipython",
    "version": 3
   },
   "file_extension": ".py",
   "mimetype": "text/x-python",
   "name": "python",
   "nbconvert_exporter": "python",
   "pygments_lexer": "ipython3",
   "version": "3.8.8"
  }
 },
 "nbformat": 4,
 "nbformat_minor": 5
}
