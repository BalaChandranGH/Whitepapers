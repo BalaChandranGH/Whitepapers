{
 "cells": [
  {
   "cell_type": "markdown",
   "id": "f36f4fcb-9542-4ae6-9419-5afd2aae21d8",
   "metadata": {},
   "source": [
    "<!--BOOK_INFORMATION-->\n",
    "<img align=\"left\" style=\"padding-right:10px;\" src=\"figures/AE-Book-Cover-Small.png\"><br>\n",
    "\n",
    "This notebook contains an excerpt from the **`Agile Estimation Guidelines - For Beginners`** whitepaper written by *Balasubramanian Chandran*; the content is available [on GitHub](https://github.com/BalaChandranGH/Whitepapers/Agile-Estimation-Guidelines)."
   ]
  },
  {
   "cell_type": "markdown",
   "id": "ff9b6351-c01f-4f7e-86c1-2e3a069e4027",
   "metadata": {},
   "source": [
    "<br>\n",
    "<!--NAVIGATION-->\n",
    "\n",
    "<[ [Summary](07.00-aegw-Summary.ipynb) | [Contents and Acronyms](00.00-aegw-Contents-and-Acronyms.ipynb) ]>"
   ]
  },
  {
   "cell_type": "markdown",
   "id": "7840258e-0f9b-4364-89f4-c64b325cd51a",
   "metadata": {},
   "source": [
    "# 8. References"
   ]
  },
  {
   "cell_type": "markdown",
   "id": "e12edd34-a529-44ce-bb86-717970158080",
   "metadata": {},
   "source": [
    "1. Use this process to estimate a project’s effort hours [_tommochal_]<br>\n",
    "   https://www.techrepublic.com/article/use-this-process-to-estimate-a-projects-effort-hours/\n",
    "\n",
    "2. 6 Types of Estimation You Can Use in Project Management [_Andrew Juma_]<br>\n",
    "   https://www.indeed.com/career-advice/career-development/types-of-estimation\n",
    "\n",
    "3. Top 8 Agile Estimation Techniques (Explained with Examples) [_Adam Milne_]<br>\n",
    "   https://www.netsolutions.com/insights/how-to-estimate-projects-in-agile/\n",
    "\n",
    "4. Learn Agile Estimation - Hands-on Workshop I Agile Estimation Techniques I Story Points Sizing - P1 [_CareersTalk – Selvi_ ]<br>\n",
    "   https://www.youtube.com/watch?v=dMPG4TPTNYs&list=PLO3I7pBgW6_TrWo4kbW1PUZ7umKN29V0Q&index=4\n",
    "\n",
    "5. T-shirt sizes aren’t what you think: How to use t-shirt sizing for project estimation [_Julia Martins_]<br>\n",
    "   https://asana.com/resources/t-shirt-sizing\n",
    "\n",
    "6. Estimation & Prioritization : Agile & SAFe Framework [_Samir Mishra_]<br>\n",
    "   https://www.linkedin.com/pulse/estimation-prioritization-agile-safe-framework-samir?trk=pulse-article\n",
    "\n",
    "7. The Bucket System [_Berteig_]<br>\n",
    "   https://www.agileadvice.com/wp-content/uploads/2013/07/H10-Estimation-The-Bucket-System.pdf\n",
    "\n",
    "8. Estimation Techniques - Three Point [_tutorialspoint_]<br>\n",
    "https://www.tutorialspoint.com/estimation_techniques/estimation_techniques_three_point.htm\n",
    "\n",
    "9. Three-Point Estimating and PERT Distribution (Cost & Time Estimation) [_Sebastian_]<br>\n",
    "   https://project-management.info/three-point-estimating-pert/\n",
    "\n",
    "10. Three-Point Estimation Technique in Project Management [_Fahad Usmani_]<br>\n",
    "   https://pmstudycircle.com/three-point-estimation/\n",
    "\n",
    "11. Three-Point Estimating: Definition, Formula and Example [_Indeed Editorial Team_]<br>\n",
    "   https://www.indeed.com/career-advice/career-development/three-point-estimating"
   ]
  },
  {
   "cell_type": "markdown",
   "id": "28d47a88-0396-44c5-bbfe-21157a8224ac",
   "metadata": {},
   "source": [
    "<!--NAVIGATION-->\n",
    "<br>\n",
    "\n",
    "<[ [Summary](07.00-aegw-Summary.ipynb) | [Contents and Acronyms](00.00-aegw-Contents-and-Acronyms.ipynb) ]>"
   ]
  }
 ],
 "metadata": {
  "kernelspec": {
   "display_name": "Python 3",
   "language": "python",
   "name": "python3"
  },
  "language_info": {
   "codemirror_mode": {
    "name": "ipython",
    "version": 3
   },
   "file_extension": ".py",
   "mimetype": "text/x-python",
   "name": "python",
   "nbconvert_exporter": "python",
   "pygments_lexer": "ipython3",
   "version": "3.8.8"
  }
 },
 "nbformat": 4,
 "nbformat_minor": 5
}
