{
 "cells": [
  {
   "cell_type": "markdown",
   "id": "f36f4fcb-9542-4ae6-9419-5afd2aae21d8",
   "metadata": {},
   "source": [
    "<!--BOOK_INFORMATION-->\n",
    "<img align=\"left\" style=\"padding-right:10px;\" src=\"figures/AE-Book-Cover-Small.png\"><br>\n",
    "\n",
    "This notebook contains an excerpt from the **`Agile Estimation Guidelines - For Beginners`** whitepaper written by *Balasubramanian Chandran*; the content is available [on GitHub](https://github.com/BalaChandranGH/Whitepapers/Agile-Estimation-Guidelines)."
   ]
  },
  {
   "cell_type": "markdown",
   "id": "ff9b6351-c01f-4f7e-86c1-2e3a069e4027",
   "metadata": {},
   "source": [
    "<br>\n",
    "<!--NAVIGATION-->\n",
    "\n",
    "<[ [Project Estimations](02.00-aegw-Project-Estimations.ipynb) | [Contents and Acronyms](00.00-aegw-Contents-and-Acronyms.ipynb) | [Project Estimations - Process Flow](04.00-aegw-Agile-Estimation-Process-Flow.ipynb) ]>"
   ]
  },
  {
   "cell_type": "markdown",
   "id": "7840258e-0f9b-4364-89f4-c64b325cd51a",
   "metadata": {},
   "source": [
    "# 3. Agile Project Estimations"
   ]
  },
  {
   "cell_type": "markdown",
   "id": "22b004c3-65de-4dd7-8ab8-690ad474f8d1",
   "metadata": {},
   "source": [
    "## 3.1. What is an Agile estimation?\n",
    "* _`“It’s the process of estimating the effort required to complete each work item listed in the prioritized product backlog.”`_\n",
    "* There are several estimation methods available to estimate the efforts such as _Dot Voting, Fist-of-Five, Rock-Paper-Scissors-Lizard-Spock, Fruit Bowl, White Elephant, Affinity Mapping, SAFe Estimation Flow, Ouija Board,_ etc. However, only the following 5 techniques are discussed in this paper.\n",
    "   1. T-Shirt Size \n",
    "   2. Bucket System \n",
    "   3. Analogous \n",
    "   4. Planning Poker \n",
    "   5. Three-Point estimation"
   ]
  },
  {
   "cell_type": "markdown",
   "id": "a01baac6-11b4-4e48-a7fb-dc05cbf6c827",
   "metadata": {},
   "source": [
    "## 3.2. Why Run Agile Estimations?\n",
    "* Agile estimations are essential to:\n",
    "   - Make teams accountable for deliverables\n",
    "   - Induce discipline across the Agile team\n",
    "   - Predict the approximate scope, effort, time, cost, and resources it will take to finish a project\n",
    "   - Enable better sprint management\n",
    "   - Improve team productivity\n",
    "   - Prepare project proposals\n",
    "   - Communicate expectations with clients\n",
    "   - Provide updates to the stakeholders\n",
    "   - Provide a way of measuring progress against expectations"
   ]
  },
  {
   "cell_type": "markdown",
   "id": "e8d19de8-5e6e-424b-afa2-f82f9bea07bd",
   "metadata": {},
   "source": [
    "## 3.3. Steps to successful Story Point estimation in agile\n",
    "The story points approach in the Agile estimation techniques uses historical data to compare features of previous, similar projects to improve the accuracy of the estimate. The steps involved in the estimation method are:\n",
    "\n",
    "**`Step 1:`** Identify user stories.<br>\n",
    "**`Step 2:`** PO or BA discusses the requirements of the user story and answers the questions from the dev team.<br>\n",
    "**`Step 3:`** Create a matrix for estimation: The estimation matrix is a numeric scale that is used to evaluate the selected pieces of work. This scale can be the Fibonacci sequence (…5, 8, 13, 21, 34 …) or the straightforward linear scale (… 3, 4, 5, 6, 7 …). Many teams prefer the Fibonacci scale because the gaps between numbers in this series are more extensive than in the linear scale. This simplifies visualizing the difference between the values assigned to the separate tasks.<br>\n",
    "**`Step 4:`** Choose an Agile estimation technique such as _Planning Poker, Analogy, T-Shirt Size estimation, Bucket System, Three-Point estimation,_ etc.<br>\n",
    "**`Step 5:`** Conduct sprint planning.<br>\n",
    "**`Step 6:`** Validate that the estimates are consistent and align with the stories as the process goes along."
   ]
  },
  {
   "cell_type": "markdown",
   "id": "f70ed70b-c7ec-407a-a0a6-4acb554d76e3",
   "metadata": {},
   "source": [
    "**`NOTE:`** \n",
    "* A **Story Point (SP)** is not a raw or absolute measure; it’s a relative measure to define the difficulty level of a user story by considering the following:\n",
    "   - **Effort/ amount of work**, i.e., raw measure\n",
    "   - **Complexity** such as involvement of research, new platform/ technology/ domain, etc.\n",
    "   - **Risks** such as unclear demand, partial availability of PO, etc.\n",
    "   - **Dependencies** such as 3rd party dependency, collaboration with other teams/stakeholders\n",
    "   - **Repetition** such as monotonous tasks without risks and/or complexities\n",
    "* **Story point Vs Hours:**\n",
    "   - SPs are used for Relative estimates, while Efforts are used for absolute estimates, in other words, the idea of story points is to estimate relative units rather than absolute units like time. \n",
    "   - This allows the team to avoid confusion when selecting stories for an upcoming sprint. The same story will take different time for different team members but it'll be the same size in terms of SPs. \n",
    "   - To make SPs work the team needs to decide how big is one story point. To do that just take the smallest story and say this story is one story point. And then all other stories should be estimated in terms of this smallest story."
   ]
  },
  {
   "cell_type": "markdown",
   "id": "3031be5f-583f-43cb-ae68-bc3d2890fd7b",
   "metadata": {},
   "source": [
    "## 3.4. MoSCow Method to prioritize requirements"
   ]
  },
  {
   "cell_type": "markdown",
   "id": "252a3513-2a40-43b3-b2c3-06be3ff6d159",
   "metadata": {},
   "source": [
    "![](figures/AE-3-MoSCoW-Method.png)\n",
    "<br>\n",
    "**Figure 3:** _MoSCoW Method,_ **Image Source:** _Balasubramanian Chandran_"
   ]
  },
  {
   "cell_type": "markdown",
   "id": "28d47a88-0396-44c5-bbfe-21157a8224ac",
   "metadata": {},
   "source": [
    "<!--NAVIGATION-->\n",
    "<br>\n",
    "\n",
    "<[ [Project Estimations](02.00-aegw-Project-Estimations.ipynb) | [Contents and Acronyms](00.00-aegw-Contents-and-Acronyms.ipynb) | [Project Estimations - Process Flow](04.00-aegw-Agile-Estimation-Process-Flow.ipynb) ]>"
   ]
  }
 ],
 "metadata": {
  "kernelspec": {
   "display_name": "Python 3",
   "language": "python",
   "name": "python3"
  },
  "language_info": {
   "codemirror_mode": {
    "name": "ipython",
    "version": 3
   },
   "file_extension": ".py",
   "mimetype": "text/x-python",
   "name": "python",
   "nbconvert_exporter": "python",
   "pygments_lexer": "ipython3",
   "version": "3.8.8"
  }
 },
 "nbformat": 4,
 "nbformat_minor": 5
}
