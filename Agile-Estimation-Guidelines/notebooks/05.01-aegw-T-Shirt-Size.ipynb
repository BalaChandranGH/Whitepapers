{
 "cells": [
  {
   "cell_type": "markdown",
   "id": "f36f4fcb-9542-4ae6-9419-5afd2aae21d8",
   "metadata": {},
   "source": [
    "<!--BOOK_INFORMATION-->\n",
    "<img align=\"left\" style=\"padding-right:10px;\" src=\"figures/AE-Book-Cover-Small.png\"><br>\n",
    "\n",
    "This notebook contains an excerpt from the **`Agile Estimation Guidelines - For Beginners`** whitepaper written by *Balasubramanian Chandran*; the content is available [on GitHub](https://github.com/BalaChandranGH/Whitepapers/Agile-Estimation-Guidelines)."
   ]
  },
  {
   "cell_type": "markdown",
   "id": "ff9b6351-c01f-4f7e-86c1-2e3a069e4027",
   "metadata": {},
   "source": [
    "<br>\n",
    "<!--NAVIGATION-->\n",
    "\n",
    "<[ [Agile Estimation - Process Flow](04.00-aegw-Agile-Estimation-Process-Flow.ipynb) | [Contents and Acronyms](00.00-aegw-Contents-and-Acronyms.ipynb) | [Agile Estimation Techniques - Analogous](05.02-aegw-Analogous.ipynb) ]>"
   ]
  },
  {
   "cell_type": "markdown",
   "id": "7840258e-0f9b-4364-89f4-c64b325cd51a",
   "metadata": {},
   "source": [
    "# 5. Agile Estimation Techniques"
   ]
  },
  {
   "cell_type": "markdown",
   "id": "50186f5f-d0dc-4cf4-a311-9aac8345221a",
   "metadata": {},
   "source": [
    "## 5.1. T-Shirt Size\n",
    "![](figures/AE-5a1-T-Shirt-Size.png)\n",
    "<br>\n",
    "**Figure 5a1:** _T-Shirt Size Estimation,_ **Image Source:** _Balasubramanian Chandran_"
   ]
  },
  {
   "cell_type": "markdown",
   "id": "9cbe335b-93b1-4968-9923-b10e4b20b6c2",
   "metadata": {},
   "source": [
    "* This is a relative estimation technique, meaning first the smallest item is picked and estimated, then other items are estimated relative to this one.\n",
    "* This technique is usually used at the initial stage of a project (to estimate epics or features), however, it can be used at the late stage as well.\n",
    "* T-Shirt Size Estimation steps:\n",
    "   - **`Step 1:`** Decide the T-Shirt sizes such as XS, S, M, L, and XL, and keep the size-coded cards ready.\n",
    "   - **`Step 2:`** Map the relative sizes of each T-Shirt size (can be done along with the team members). \n",
    "      An example is given below:\n",
    "      `Epic level estimation:`\n",
    "      ```\n",
    "         (S)mall        - 1 Sprint       (or)  1 to  5 days\n",
    "         (M)edium       - 2 to 3 Sprints (or)  5 to 10 days\n",
    "         (L)arge        - 4 to 6 Sprints (or) 10 to 20 days\n",
    "         (X)tra (L)arge - 7+ Sprints (split this into smaller sizes)\n",
    "      ```\n",
    "      `Feature level estimation:`\n",
    "      ```\n",
    "         (X)tra (S)mall - 1 SP (or) 0.5 to  1 SP\n",
    "         (S)mall        - 2 SP (or)   1 to  2 SP\n",
    "         (M)edium       - 3 SP (or)   3 to  5 SP\n",
    "         (L)arge        - 5 SP (or)   5 to  8 SP\n",
    "         (X)tra (L)arge\t- 8 SP (or)   8 to 13 SP\n",
    "      ```\n",
    "      `NOTE:` If needed, we can introduce other sizes as well (XXXS, XXS, …, XXL, XXXL, etc.). However, too many sizes are not recommended to keep the process simple and quick.\n",
    "   - **`Step 3:`** Decide the team members who will be involved in the estimation process.\n",
    "   - **`Step 4:`** Decide the meeting mode (face-to-face in a room or any online tool).\n",
    "   - **`Step 5:`** Distribute the size-coded cards across the team.\n",
    "   - **`Step 6:`** The PO/BA describes an item (epic/feature) to the team, the team can ask any related queries, and the questions are answered by the PO/BA.\n",
    "   - **`Step 7:`** Each team member secretly selects a card for an estimate, which is revealed when all the cards are turned over for that particular item.\n",
    "   - **`Step 8:`** The card with the most voting is the finalized estimate for the item under discussion.\n",
    "   - **`Step 9:`** In case of uneven estimates, further discussions happen, and the next round of voting commences to come up with an estimate everyone agrees with.\n",
    "   - **`Step 10:`** Pick up the next item, go to Step 5, and repeat this process until all items are estimated.\n",
    "   - **`Step 11:`** Calculate the estimate for the project, _where m = Number of PBIs_.\n",
    "     ![](figures/AE-5a2-T-Shirt-Size-Formula.png)"
   ]
  },
  {
   "cell_type": "markdown",
   "id": "28d47a88-0396-44c5-bbfe-21157a8224ac",
   "metadata": {},
   "source": [
    "<!--NAVIGATION-->\n",
    "<br>\n",
    "\n",
    "<[ [Agile Estimation - Process Flow](04.00-aegw-Agile-Estimation-Process-Flow.ipynb) | [Contents and Acronyms](00.00-aegw-Contents-and-Acronyms.ipynb) | [Agile Estimation Techniques - Analogous](05.02-aegw-Analogous.ipynb) ]>"
   ]
  }
 ],
 "metadata": {
  "kernelspec": {
   "display_name": "Python 3",
   "language": "python",
   "name": "python3"
  },
  "language_info": {
   "codemirror_mode": {
    "name": "ipython",
    "version": 3
   },
   "file_extension": ".py",
   "mimetype": "text/x-python",
   "name": "python",
   "nbconvert_exporter": "python",
   "pygments_lexer": "ipython3",
   "version": "3.8.8"
  }
 },
 "nbformat": 4,
 "nbformat_minor": 5
}
