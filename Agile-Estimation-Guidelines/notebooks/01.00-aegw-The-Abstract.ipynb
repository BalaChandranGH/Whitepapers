{
 "cells": [
  {
   "cell_type": "markdown",
   "id": "f36f4fcb-9542-4ae6-9419-5afd2aae21d8",
   "metadata": {},
   "source": [
    "<!--BOOK_INFORMATION-->\n",
    "<img align=\"left\" style=\"padding-right:10px;\" src=\"figures/AE-Book-Cover-Small.png\"><br>\n",
    "\n",
    "This notebook contains an excerpt from the **`Agile Estimation Guidelines - For Beginners`** whitepaper written by *Balasubramanian Chandran*; the content is available [on GitHub](https://github.com/BalaChandranGH/Whitepapers/Agile-Estimation-Guidelines)."
   ]
  },
  {
   "cell_type": "markdown",
   "id": "ff9b6351-c01f-4f7e-86c1-2e3a069e4027",
   "metadata": {},
   "source": [
    "<br>\n",
    "<!--NAVIGATION-->\n",
    "\n",
    "<[ [Contents and Acronyms](00.00-aegw-Contents-and-Acronyms.ipynb) | [Project Estimations](02.00-aegw-Project-Estimations.ipynb) ]>"
   ]
  },
  {
   "cell_type": "markdown",
   "id": "7840258e-0f9b-4364-89f4-c64b325cd51a",
   "metadata": {},
   "source": [
    "# 1. The Abstract"
   ]
  },
  {
   "cell_type": "markdown",
   "id": "3c9e8022-a61c-439e-8382-f1bb9f55d5ef",
   "metadata": {},
   "source": [
    "Project estimations are always challenging regardless of the type of project we try to estimate. For T&M projects, the estimates are given in a range of a Rough Order of Magnitude (ROM). On the other hand, for FP projects, the estimates have to be given with only one number, be it duration or cost. These estimates are usually done for the effort first, then the duration and the cost. The duration and the cost figures help the business to plan and allocate the budget.\n",
    "\n",
    "This whitepaper briefly answers the following questions:\n",
    "* What are the different elements involved in a project estimation?\n",
    "* What is the general process to estimate a project?\n",
    "* What needs to go along with the estimates when presenting?\n",
    "* What are various estimation techniques to be considered, in general?\n",
    "* What are the differences between traditional and agile estimations?\n",
    "* What is the process flow for agile estimations?\n",
    "\n",
    "And, step-by-step procedures are given for each of the following agile estimation techniques:\n",
    "* T-Shirt Size \n",
    "* Analogous \n",
    "* Planning poker \n",
    "* Bucket System\n",
    "* Three-Point Method\n",
    "\n",
    "Additionally, a step-by-step guideline is given to estimate the project duration and the cost for agile projects.\n",
    "\n",
    "Finally, the above-mentioned estimation techniques are summarized with use cases as to when to use which estimation technique. In other words, which technique to use for estimating epics and features and which ones to use for estimating user stories?"
   ]
  },
  {
   "cell_type": "markdown",
   "id": "28d47a88-0396-44c5-bbfe-21157a8224ac",
   "metadata": {},
   "source": [
    "<!--NAVIGATION-->\n",
    "<br>\n",
    "\n",
    "<[ [Contents and Acronyms](00.00-aegw-Contents-and-Acronyms.ipynb) | [Project Estimations](02.00-aegw-Project-Estimations.ipynb) ]>"
   ]
  }
 ],
 "metadata": {
  "kernelspec": {
   "display_name": "Python 3",
   "language": "python",
   "name": "python3"
  },
  "language_info": {
   "codemirror_mode": {
    "name": "ipython",
    "version": 3
   },
   "file_extension": ".py",
   "mimetype": "text/x-python",
   "name": "python",
   "nbconvert_exporter": "python",
   "pygments_lexer": "ipython3",
   "version": "3.8.8"
  }
 },
 "nbformat": 4,
 "nbformat_minor": 5
}
