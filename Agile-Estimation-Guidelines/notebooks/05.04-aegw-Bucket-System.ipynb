{
 "cells": [
  {
   "cell_type": "markdown",
   "id": "f36f4fcb-9542-4ae6-9419-5afd2aae21d8",
   "metadata": {},
   "source": [
    "<!--BOOK_INFORMATION-->\n",
    "<img align=\"left\" style=\"padding-right:10px;\" src=\"figures/AE-Book-Cover-Small.png\"><br>\n",
    "\n",
    "This notebook contains an excerpt from the **`Agile Estimation Guidelines - For Beginners`** whitepaper written by *Balasubramanian Chandran*; the content is available [on GitHub](https://github.com/BalaChandranGH/Whitepapers/Agile-Estimation-Guidelines)."
   ]
  },
  {
   "cell_type": "markdown",
   "id": "ff9b6351-c01f-4f7e-86c1-2e3a069e4027",
   "metadata": {},
   "source": [
    "<br>\n",
    "<!--NAVIGATION-->\n",
    "\n",
    "<[ [Agile Estimation Techniques - Planning Poker](05.03-aegw-Planning-Poker.ipynb) | [Contents and Acronyms](00.00-aegw-Contents-and-Acronyms.ipynb) | [Agile Estimation Techniques - Three-Point Method](05.05-aegw-Three-Point-Method.ipynb) ]>"
   ]
  },
  {
   "cell_type": "markdown",
   "id": "7840258e-0f9b-4364-89f4-c64b325cd51a",
   "metadata": {},
   "source": [
    "# 5. Agile Estimation Techniques"
   ]
  },
  {
   "cell_type": "markdown",
   "id": "50186f5f-d0dc-4cf4-a311-9aac8345221a",
   "metadata": {},
   "source": [
    "## 5.4. Bucket System\n",
    "![](figures/AE-5d1-Bucket-System.png)\n",
    "<br>\n",
    "**Figure 5d1:** _Bucket System Estimation,_ **Image Source:** _Balasubramanian Chandran_"
   ]
  },
  {
   "cell_type": "markdown",
   "id": "9cbe335b-93b1-4968-9923-b10e4b20b6c2",
   "metadata": {},
   "source": [
    "* The bucket system allows a group of people to estimate PBIs relative to each other.\n",
    "* This technique is an alternative to Planning Poker.\n",
    "* Typical scenario:\n",
    "   - Team size: 5 to 25 participants\n",
    "   - Number of PBIs to estimate: 50 to 500\n",
    "   - Estimation Duration: 30 to 90 min depending on the team size and the number of PBIs.\n",
    "* Bucket System Estimation steps:\n",
    "   - **`Step 1:`** Decide the number series such as, \n",
    "      - Modified Fibonacci numbers: 0, 1, 2, 3, 4, 5, 8, 13, 20, 30, 50, 100, 200.\n",
    "      - Keep the number-coded cards ready.\n",
    "   - **`Step 2:`** Decide the team members who will be involved in the estimation process.\n",
    "   - **`Step 3:`** Decide the meeting mode (face-to-face in a room or any online tool).\n",
    "   - **`Step 4:`** Lay out cards on a wall or long table. These are the **_“buckets”_**. Put enough space between them to accommodate all your items to be estimated.\n",
    "   - **`Step 5:`** Choose one item at random from the PBIs. Place it in the **_“8”_** bucket. This is an arbitrary reference point. If the item chosen is **_obviously_** at an end of your scale, choose another item at random to replace it.\n",
    "   - **`Step 6:`** Choose a second item at random from the PBIs. Discuss the item and, as a group, estimate it relative to the first item. For example, \n",
    "      - If it is estimated at half of the first item, then it would be placed in the “4” bucket.\n",
    "      - If it is estimated at twice the first item, then it would be placed in the “13” bucket.\n",
    "      - All participants should agree on the placement.\n",
    "       - While estimating, consider the details that affect the estimate, as given in the above diagram, such as _User Interface, Business Logic, DB Integration,_ and _Testing_.\n",
    "   - **`Step 7:`** Choose a third item to estimate at random from the PBIs. Discuss, estimate and place as in Step 6.\n",
    "   - **`Step 8:`** Divide and Conquer.\n",
    "      - Distribute the remaining items equally among participants. \n",
    "      - Participants then work independently through their items to estimate and place them in the appropriate buckets. \n",
    "      - If a participant feels unable to estimate an item, it can be passed along to someone else, however, the facilitator should make sure this passing along does not get bogged down in any discussion.\n",
    "   - **`Step 9:`** Sanity check. \n",
    "      - Once all the items are placed, the participants do a sanity check by independently looking for items they know well or care about and checking to see if they are in the **_“correct”_** bucket. \n",
    "      - If a participant finds an item that does not seem to be in the correct bucket, then that item is brought to the attention of the group to discuss.\n",
    "      **`NOTE:`** The facilitator should ensure that not too many items get discussed in detail.\n",
    "   - **`Step 10:`** When the sanity check is complete, items have their bucket number recorded in an appropriate spot.\n",
    "   - **`Step 11:`** Calculate the estimate for the project, _where m = Number of PBIs_.<br>\n",
    "     ![](figures/AE-5d2-Bucket-System-Formula.png)"
   ]
  },
  {
   "cell_type": "markdown",
   "id": "e86ce6ff-56a9-421c-9af0-64fe30976dba",
   "metadata": {},
   "source": [
    "* Other considerations:\n",
    "   - Multiple items may result in the same bucket.\n",
    "   - Items are not allowed to be placed _`between`_ buckets.\n",
    "   - If the distribution of the items is skewed to either end of the scale, then during the _`“Sanity check”`_ step the group should also discuss if the items can and should be spread out more evenly along the scale.  If so, then the group does it collectively.\n",
    "   - The facilitator should watch to make sure that no one moves items that have already been placed until the _`“Sanity check”`_ step.\n",
    "   - The division of items among participants does not need to be exactly equal.\n",
    "   - If the _`“Divide and Conquer”`_ step has one or two people working very slowly through their items, it is acceptable to suggest that they share their remaining items with people who are already finished.\n",
    "   - It is not acceptable for an individual to completely abstain from the process. If someone desires to abstain, they should be counseled that this means they will not have any future say in the estimates.\n",
    "   - During the _`“Divide and Conquer”`_ step, absolute silence must be maintained. In particular, there should be no bilateral discussion of items. This is to protect the anonymity of individuals placing items."
   ]
  },
  {
   "cell_type": "markdown",
   "id": "0816558e-96d4-46cb-bf42-c9781d9738d1",
   "metadata": {},
   "source": [
    "* An illustration:\n",
    "  ![](figures/AE-5d3-Bucket-System-Illustration.png)<br>\n",
    "  **Figure 5d3:** _Bucket System Estimation Illustration,_ **Image Source:** _Balasubramanian Chandran_"
   ]
  },
  {
   "cell_type": "markdown",
   "id": "28d47a88-0396-44c5-bbfe-21157a8224ac",
   "metadata": {},
   "source": [
    "<!--NAVIGATION-->\n",
    "<br>\n",
    "\n",
    "<[ [Agile Estimation Techniques - Planning Poker](05.03-aegw-Planning-Poker.ipynb) | [Contents and Acronyms](00.00-aegw-Contents-and-Acronyms.ipynb) | [Agile Estimation Techniques - Three-Point Method](05.05-aegw-Three-Point-Method.ipynb) ]>"
   ]
  }
 ],
 "metadata": {
  "kernelspec": {
   "display_name": "Python 3",
   "language": "python",
   "name": "python3"
  },
  "language_info": {
   "codemirror_mode": {
    "name": "ipython",
    "version": 3
   },
   "file_extension": ".py",
   "mimetype": "text/x-python",
   "name": "python",
   "nbconvert_exporter": "python",
   "pygments_lexer": "ipython3",
   "version": "3.8.8"
  }
 },
 "nbformat": 4,
 "nbformat_minor": 5
}
