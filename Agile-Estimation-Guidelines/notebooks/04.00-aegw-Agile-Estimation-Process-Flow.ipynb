{
 "cells": [
  {
   "cell_type": "markdown",
   "id": "f36f4fcb-9542-4ae6-9419-5afd2aae21d8",
   "metadata": {},
   "source": [
    "<!--BOOK_INFORMATION-->\n",
    "<img align=\"left\" style=\"padding-right:10px;\" src=\"figures/AE-Book-Cover-Small.png\"><br>\n",
    "\n",
    "This notebook contains an excerpt from the **`Agile Estimation Guidelines - For Beginners`** whitepaper written by *Balasubramanian Chandran*; the content is available [on GitHub](https://github.com/BalaChandranGH/Whitepapers/Agile-Estimation-Guidelines)."
   ]
  },
  {
   "cell_type": "markdown",
   "id": "ff9b6351-c01f-4f7e-86c1-2e3a069e4027",
   "metadata": {},
   "source": [
    "<br>\n",
    "<!--NAVIGATION-->\n",
    "\n",
    "<[ [Agile Project Estimations](03.00-aegw-Agile-Project-Estimations.ipynb) | [Contents and Acronyms](00.00-aegw-Contents-and-Acronyms.ipynb) | [Agile Estimation Techniques - T-Shirt Size](05.01-aegw-T-Shirt-Size.ipynb) ]>"
   ]
  },
  {
   "cell_type": "markdown",
   "id": "7840258e-0f9b-4364-89f4-c64b325cd51a",
   "metadata": {},
   "source": [
    "# 4. Agile Estimation - Process Flow"
   ]
  },
  {
   "cell_type": "markdown",
   "id": "a27c4057-7dc6-4518-8f89-0f247f4e4215",
   "metadata": {},
   "source": [
    "* When a project starts, the horizon is limited. Thus, it is wise to implement a short product discovery phase to tide over this problem. The discovery phase establishes the essential tenet of Agile methodology, which consists of breaking down the requirements into small batch sizes."
   ]
  },
  {
   "cell_type": "markdown",
   "id": "d37824e7-2637-4e8f-b017-fb90b0807084",
   "metadata": {},
   "source": [
    "* The discovery team is formed by those who can help to lead the discovery work; the members may be, \n",
    "   - Product Owner (PO) who knows the business\n",
    "   - Business Analyst (BA) who understands the business\n",
    "   - UX Designer (UXD) who regularly meets the users and designs storyboards and wireframes\n",
    "   - Solution Architect (SA) who knows the architecture/solution feasibility\n",
    "   - Senior Developers (SD) who know the implementation feasibility\n",
    "   - Project Manager (PM) who is responsible for the overall delivery"
   ]
  },
  {
   "cell_type": "markdown",
   "id": "779d455a-d720-43c8-aebe-66a15b28b72e",
   "metadata": {},
   "source": [
    "* This exercise typically takes two to four weeks, depending on the project’s complexity, and it includes:\n",
    "   - **Requirements collection**\n",
    "      - `Responsibility:` PO/BA\n",
    "      - Conduct stakeholder interviews and workshops.\n",
    "      - `Deliverables:` \n",
    "         - _Business Requirements Document (BRD)_ that defines the end goal of the project\n",
    "         - _Functional Requirements Document (FRD)_ that defines the features required to achieve the end goal\n",
    "   - **Prepare high-level Product Backlog**\n",
    "      - `Responsibility:` PO/BA & SA\n",
    "      - Frame an initial outcome that the stakeholders are looking for with a feasible solution.\n",
    "      - A high-level product backlog is defined in terms of epics and story titles, which describe the bare bones of the application.\n",
    "      - They then validate if the backlog addresses the scope of the project for the client.\n",
    "      - `Deliverables:` \n",
    "         - _High-Level Product Backlog_ (validated against the project scope by the stakeholders)\n",
    "   - **Understand the client and their potential customers**\n",
    "      - `Responsibility:` UXD & User groups\n",
    "      - The UX designer’s responsibility is to understand both the client and their potential customers.\n",
    "      - The UX designer works with the user group who will use the application, the ecosystem in which the personas will be using it, and the touchpoints of the user personas within the system.\n",
    "      - `Deliverables:` \n",
    "         - _Storyboards, Wireframes, Ecosystem maps, User journeys_\n",
    "   - **Prioritize requirements**\n",
    "      - `Responsibility:` PO/BA\n",
    "      - There are many prioritization techniques available such as Mitch Lacey Team Prioritization (plotting Size on the X-axis and Priority on the Y-axis), Kano Model of Prioritization, Weighted Shortest Job First, Bang-For-The-Buck Prioritization, 100 Point / 100 Dollar Technique, Carver Technique, MoSCow method, etc. Yet, the MoSCow method is widely used and hence here too.\n",
    "      - The backlog items are divided based on the MoSCoW method (see below for details).\n",
    "      - `Deliverables:`\n",
    "         - _Prioritized Product Backlog_\n",
    "   - **Prepare the MVP (Minimum Viable Product) Backlog**\n",
    "      - `Responsibility:` PO/BA\n",
    "      - Based on the prioritization activity, the PO assembles the requirements as ‘Must Haves’, ‘Should Haves’, ‘Could Haves’, and ‘Won’t Haves’ to the backlog and sections ‘Must Haves’ as the requirements for the MVP Development.\n",
    "      - The MVP backlog might also contain a few items from the ‘Should Haves’ list, ensuring that the product is sufficiently competitive in the market.\n",
    "      - `P.S.:` In some instances, depending on the budget and time to market, this step is skipped, and the agile teams jump directly to developing the fully-fledged product.\n",
    "      - `Deliverables:`\n",
    "         - _MVP Backlog_\n",
    "   - **Estimate the Project Effort/ Size, Resource requirements, and Timeline**\n",
    "      - `Responsibility:` SD, PO & PM\n",
    "      - The discovery team estimates the project effort based on the guidelines given.\n",
    "      - Based on the project’s effort estimation, the team comes up with resource estimation, critical-path identification, and project duration estimation. \n",
    "      - `Deliverables:`\n",
    "         - _Baseline Project Effort_\n",
    "         - _Baseline Project Resource requirements_\n",
    "         - _Project Critical-path_\n",
    "         - _Baseline Project Duration_\n",
    "   - **Estimate the Project Cost**\n",
    "      - `Responsibility:` PM\n",
    "      - Based on the project’s effort/ size estimation, the SM/ PM comes up with the project cost estimation. \n",
    "      - `Deliverables:`\n",
    "         - _Baseline Project Cost_"
   ]
  },
  {
   "cell_type": "markdown",
   "id": "2d8cb6be-121c-46c5-98de-29841ce80db6",
   "metadata": {},
   "source": [
    "## 4.1. Agile Estimation - Process Flow Diagram\n",
    "![](figures/AE-4-Agile-Est-Process-Flow.png)\n",
    "<br>\n",
    "**Figure 4:** _Agile Estimation Process Flow,_ **Image Source:** _Balasubramanian Chandran_"
   ]
  },
  {
   "cell_type": "markdown",
   "id": "28d47a88-0396-44c5-bbfe-21157a8224ac",
   "metadata": {},
   "source": [
    "<!--NAVIGATION-->\n",
    "<br>\n",
    "\n",
    "<[ [Agile Project Estimations](03.00-aegw-Agile-Project-Estimations.ipynb) | [Contents and Acronyms](00.00-aegw-Contents-and-Acronyms.ipynb) | [Agile Estimation Techniques - T-Shirt Size](05.01-aegw-T-Shirt-Size.ipynb) ]>"
   ]
  }
 ],
 "metadata": {
  "kernelspec": {
   "display_name": "Python 3",
   "language": "python",
   "name": "python3"
  },
  "language_info": {
   "codemirror_mode": {
    "name": "ipython",
    "version": 3
   },
   "file_extension": ".py",
   "mimetype": "text/x-python",
   "name": "python",
   "nbconvert_exporter": "python",
   "pygments_lexer": "ipython3",
   "version": "3.8.8"
  }
 },
 "nbformat": 4,
 "nbformat_minor": 5
}
