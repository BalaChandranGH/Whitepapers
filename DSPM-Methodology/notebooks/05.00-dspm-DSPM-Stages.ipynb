{
 "cells": [
  {
   "cell_type": "markdown",
   "id": "9c389aed-0036-4c50-8b03-61d6fd3ffb26",
   "metadata": {},
   "source": [
    "<!--BOOK_INFORMATION-->\n",
    "<img align=\"left\" style=\"padding-right:10px;\" src=\"figures/DSPM-Book-Cover-Small.png\"><br>\n",
    "\n",
    "This notebook contains an excerpt from the **`Data Science Project Management Methodology - A Guideline for Beginners`** whitepaper written by *Balasubramanian Chandran*; the content is available [on GitHub](https://github.com/BalaChandranGH/Whitepapers/DSPM-Methodology)."
   ]
  },
  {
   "cell_type": "markdown",
   "id": "2fab84ce-6366-45ec-846e-ef98dda358d0",
   "metadata": {},
   "source": [
    "<!--NAVIGATION-->\n",
    "\n",
    "<[ [DSPM Methodology – A Guideline for Beginners](04.00-dspm-DSPM-Methodology–A-Guideline-for-Beginners.ipynb) | [Contents and Acronyms](00.00-dspm-Contents-and-Acronyms.ipynb) | [DSPM - Process Definition](06.00-dspm-DSPM-Process-Definition.ipynb) ]>"
   ]
  },
  {
   "cell_type": "markdown",
   "id": "4073e8b0-b92c-4672-9fce-e3c937f041d5",
   "metadata": {},
   "source": [
    "# 5. Stages"
   ]
  },
  {
   "cell_type": "markdown",
   "id": "97aaaad5-eae4-4470-8766-8d5a7bdd097d",
   "metadata": {},
   "source": [
    "![](figures/DSPM-Stages.png)"
   ]
  },
  {
   "cell_type": "markdown",
   "id": "b6c31415-0e6b-4222-a2e3-940c2f2e7457",
   "metadata": {},
   "source": [
    "<!--NAVIGATION-->\n",
    "<br>\n",
    "\n",
    "<[ [DSPM Methodology – A Guideline for Beginners](04.00-dspm-DSPM-Methodology–A-Guideline-for-Beginners.ipynb) | [Contents and Acronyms](00.00-dspm-Contents-and-Acronyms.ipynb) | [DSPM - Process Definition](06.00-dspm-DSPM-Process-Definition.ipynb) ]>"
   ]
  }
 ],
 "metadata": {
  "kernelspec": {
   "display_name": "Python 3",
   "language": "python",
   "name": "python3"
  },
  "language_info": {
   "codemirror_mode": {
    "name": "ipython",
    "version": 3
   },
   "file_extension": ".py",
   "mimetype": "text/x-python",
   "name": "python",
   "nbconvert_exporter": "python",
   "pygments_lexer": "ipython3",
   "version": "3.8.8"
  }
 },
 "nbformat": 4,
 "nbformat_minor": 5
}
