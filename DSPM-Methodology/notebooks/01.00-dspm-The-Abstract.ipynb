{
 "cells": [
  {
   "cell_type": "markdown",
   "id": "f36f4fcb-9542-4ae6-9419-5afd2aae21d8",
   "metadata": {},
   "source": [
    "<!--BOOK_INFORMATION-->\n",
    "<img align=\"left\" style=\"padding-right:10px;\" src=\"figures/DSPM-Book-Cover-Small.png\"><br>\n",
    "\n",
    "This notebook contains an excerpt from the **`Data Science Project Management Methodology - A Guideline for Beginners`** whitepaper written by *Balasubramanian Chandran*; the content is available [on GitHub](https://github.com/BalaChandranGH/Whitepapers/DSPM-Methodology)."
   ]
  },
  {
   "cell_type": "markdown",
   "id": "ff9b6351-c01f-4f7e-86c1-2e3a069e4027",
   "metadata": {},
   "source": [
    "<!--NAVIGATION-->\n",
    "\n",
    "<[ [Contents and Acronyms](00.00-dspm-Contents-and-Acronyms.ipynb) | [Introduction - Why DSPM is challenging?](02.00-dspm-Introduction-Why-DSPM-is-challenging.ipynb) ]>"
   ]
  },
  {
   "cell_type": "markdown",
   "id": "7840258e-0f9b-4364-89f4-c64b325cd51a",
   "metadata": {},
   "source": [
    "# 1. The Abstract"
   ]
  },
  {
   "cell_type": "markdown",
   "id": "a886a76e-b7ed-4251-be90-60715813d045",
   "metadata": {},
   "source": [
    "The uncertainties are the fundamental nature of any DS project. Unlike traditional IT projects, most of the DS projects start with uncertainties in terms of:\n",
    "- Vague business requirements or problem definition \n",
    "- Availability and quality of data that are used to solve the problem \n",
    "<br><br>\n",
    "\n",
    "Because of the volatile nature of the project, one cannot come up with a concrete and detailed project plan at the inception of the project. And, none of the existing project management methodologies, without changes, is best suited for a data science project. The methodology should be,\n",
    "- Iterative and flexible to accommodate changes\n",
    "- Shrink and expand to accommodate projects of any size, ranging from simple (one-member team and the project runs for a few hours) to large (several members team and the project runs for several months)\n",
    "- Light-weight on process and documentation demands, but at the same time it should be able to heavily support process orientation and documentation if needed by the organization\n",
    "<br><br>\n",
    "\n",
    "In this whitepaper, an attempt has been made to produce a hybrid methodology that can be used to manage and deliver data science projects of any size. Depending on the size and the complexity of the projects, some of the activities can be compromised."
   ]
  },
  {
   "cell_type": "markdown",
   "id": "28d47a88-0396-44c5-bbfe-21157a8224ac",
   "metadata": {},
   "source": [
    "<!--NAVIGATION-->\n",
    "<br>\n",
    "\n",
    "<[ [Contents and Acronyms](00.00-dspm-Contents-and-Acronyms.ipynb) | [Introduction - Why DSPM is challenging?](02.00-dspm-Introduction-Why-DSPM-is-challenging.ipynb) ]>"
   ]
  }
 ],
 "metadata": {
  "kernelspec": {
   "display_name": "Python 3",
   "language": "python",
   "name": "python3"
  },
  "language_info": {
   "codemirror_mode": {
    "name": "ipython",
    "version": 3
   },
   "file_extension": ".py",
   "mimetype": "text/x-python",
   "name": "python",
   "nbconvert_exporter": "python",
   "pygments_lexer": "ipython3",
   "version": "3.8.8"
  }
 },
 "nbformat": 4,
 "nbformat_minor": 5
}
