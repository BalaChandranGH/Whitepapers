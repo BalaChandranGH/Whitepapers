{
 "cells": [
  {
   "cell_type": "markdown",
   "id": "9c389aed-0036-4c50-8b03-61d6fd3ffb26",
   "metadata": {},
   "source": [
    "<!--BOOK_INFORMATION-->\n",
    "<img align=\"left\" style=\"padding-right:10px;\" src=\"figures/DSPM-Book-Cover-Small.png\"><br>\n",
    "\n",
    "This notebook contains an excerpt from the **`Data Science Project Management Methodology - A Guideline for Beginners`** whitepaper written by *Balasubramanian Chandran*; the content is available [on GitHub](https://github.com/BalaChandranGH/Whitepapers/DSPM-Methodology)."
   ]
  },
  {
   "cell_type": "markdown",
   "id": "2fab84ce-6366-45ec-846e-ef98dda358d0",
   "metadata": {},
   "source": [
    "<!--NAVIGATION-->\n",
    "\n",
    "<[ [Summary](07.00-dspm-Summary.ipynb) | [Contents and Acronyms](00.00-dspm-Contents-and-Acronyms.ipynb) ]>"
   ]
  },
  {
   "cell_type": "markdown",
   "id": "4073e8b0-b92c-4672-9fce-e3c937f041d5",
   "metadata": {},
   "source": [
    "# 8. References"
   ]
  },
  {
   "cell_type": "markdown",
   "id": "3056d989-ccc6-4c61-b7e0-de350c3b6391",
   "metadata": {},
   "source": [
    "1.   Project Management: The Most Underrated Skill in Analytics\n",
    "     [_Jyotsna Vadakkanmarveettil_]<br>\n",
    "     (https://www.jigsawacademy.com/project-management-underrated-skill-analytics/)\n",
    "\n",
    "2.   Data Science projects management methodologies \n",
    "     [_Felipe Sanchez_]<br>\n",
    "     (https://towardsdatascience.com/data-sciencce-projects-management-methodologies-54339c9d5e5a)\n",
    "    \n",
    "3.   5 papers about Project Management in Data Science \n",
    "     [_Florencia Mangini_]<br>\n",
    "     (https://www.thinkingondata.com/5-papers-about-data-science-project-management/)\n",
    "    \n",
    "4.   Big Data and Its Technical Challenges \n",
    "     [_H.V. Jagadish, Johannes Gehrke, Alexandros Labrinidis, Yannis Papakonstantinou, Jignesh M. Patel, \n",
    "     Raghu Ramakrishnan, and Cyrus Shahabi_]<br>\n",
    "     (https://infolab.usc.edu/DocsDemos/acm-com-2014.pdf)\n",
    "\n",
    "5.   Comparing Data Science Project Management Methodologies via a Controlled Experiment \n",
    "     [_Jeffrey S. Saltz, Ivan Shamshurin and Kevin Crowston_]<br>\n",
    "     (https://core.ac.uk/download/pdf/77239583.pdf)\n",
    "      \n",
    "6.   The Secrets to Managing Business Analytics Projects \n",
    "     [_Stijn Viaene and Annabel Van den Bunder_]<br>\n",
    "     (https://www.researchgate.net/publication/230800948_The_Secrets_to_Managing_Business_Analytics_Projects)\n",
    "      \n",
    "7.   Business Information Modeling: A Methodology for Data-Intensive Projects, Data Science and Big Data Governance \n",
    "     [_Torsten Priebe and Stefan Markus_]<br>\n",
    "     (https://www.researchgate.net/publication/283487392_Business_Information_Modeling_A_Methodology_for_Data-Intensive_Projects_Data_Science_and_Big_Data_Governance)\n",
    "\n",
    "8.   Towards methods for systematic research on big data \n",
    "     [_Manirupa Das, Renhao Cui, David R. Campbell, Gagan Agrawal and Rajiv Ramnath_]<br>\n",
    "     (https://www.computer.org/csdl/proceedings-article/big-data/2015/07363989/12OmNAQJzVP)\n",
    "\n",
    "9.   Data Science Project Management – Explore Methodologies<br>\n",
    "     (http://www.datascience-pm.com/)\n",
    "\n",
    "10.  Scrum<br>\n",
    "     (https://www.datascience-pm.com/scrum/)\n",
    "\n",
    "11.  CRISP-DM<br>\n",
    "     (https://www.datascience-pm.com/crisp-dm-2/)\n",
    "\n",
    "12.  Kanban<br>\n",
    "     (https://www.datascience-pm.com/kanban/)\n",
    "\n",
    "13.  Research and Development<br>\n",
    "     (https://www.datascience-pm.com/research-and-development/)\n",
    "\n",
    "14.  Waterfall<br>\n",
    "     (https://www.datascience-pm.com/waterfall/)\n",
    "\n",
    "15.  Bimodal: Agile-Waterfall<br>\n",
    "     (https://www.datascience-pm.com/bimodal/)\n",
    "\n",
    "16.  Team Data Science Process (TDSP)<br>\n",
    "     (https://www.datascience-pm.com/tdsp/)\n",
    "\n",
    "17.  Domino Data Science Lifecycle<br>\n",
    "     (https://www.datascience-pm.com/domino-data-science-lifecycle/)\n",
    "\n",
    "18.  Data Science Process Alternatives<br>\n",
    "     (http://www.datascience-pm.com/pm-guide-overview/)"
   ]
  },
  {
   "cell_type": "markdown",
   "id": "b6c31415-0e6b-4222-a2e3-940c2f2e7457",
   "metadata": {},
   "source": [
    "<!--NAVIGATION-->\n",
    "<br>\n",
    "\n",
    "<[ [Summary](07.00-dspm-Summary.ipynb) | [Contents and Acronyms](00.00-dspm-Contents-and-Acronyms.ipynb) ]>"
   ]
  }
 ],
 "metadata": {
  "kernelspec": {
   "display_name": "Python 3",
   "language": "python",
   "name": "python3"
  },
  "language_info": {
   "codemirror_mode": {
    "name": "ipython",
    "version": 3
   },
   "file_extension": ".py",
   "mimetype": "text/x-python",
   "name": "python",
   "nbconvert_exporter": "python",
   "pygments_lexer": "ipython3",
   "version": "3.8.8"
  }
 },
 "nbformat": 4,
 "nbformat_minor": 5
}
