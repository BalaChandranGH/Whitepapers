{
 "cells": [
  {
   "cell_type": "markdown",
   "id": "9c389aed-0036-4c50-8b03-61d6fd3ffb26",
   "metadata": {},
   "source": [
    "<!--BOOK_INFORMATION-->\n",
    "<img align=\"left\" style=\"padding-right:10px;\" src=\"figures/DSPM-Book-Cover-Small.png\"><br>\n",
    "\n",
    "This notebook contains an excerpt from the **`Data Science Project Management Methodology - A Guideline for Beginners`** whitepaper written by *Balasubramanian Chandran*; the content is available [on GitHub](https://github.com/BalaChandranGH/Whitepapers/DSPM-Methodology)."
   ]
  },
  {
   "cell_type": "markdown",
   "id": "2fab84ce-6366-45ec-846e-ef98dda358d0",
   "metadata": {},
   "source": [
    "<!--NAVIGATION-->\n",
    "\n",
    "<[ [DSPM - Process Definition](06.00-dspm-DSPM-Process-Definition.ipynb) | [Contents and Acronyms](00.00-dspm-Contents-and-Acronyms.ipynb) | [References](08.00-dspm-References.ipynb) ]>"
   ]
  },
  {
   "cell_type": "markdown",
   "id": "4073e8b0-b92c-4672-9fce-e3c937f041d5",
   "metadata": {},
   "source": [
    "# 7. Summary"
   ]
  },
  {
   "cell_type": "markdown",
   "id": "ff14e64c-3992-4e67-a659-a0193c0abdb1",
   "metadata": {},
   "source": [
    "Traditional and simple data science projects are easy to manage with clearly defined milestones. The complication arises when the size, complexity, and volume of data increase. As of now, there is no single project management methodology is available for data science projects that can be used as-is. The challenges in managing the data science projects are due to the availability of data, quality of data, preprocessing of data, research, and conversion of business problems into analytics problems. In this article, an attempt has been made to provide a hybrid methodology, as a guideline for beginners, defining the key activities and deliverables in 8 different phases. \n",
    "\n",
    "Finally, remember the following quotes while doing any data science projects.\n",
    "\n",
    "**“It's not who has the best algorithm that wins. It's who has the most data”** – (Andrew Ng)\n",
    "\n",
    "**“An inferior algorithm with enough data can outperform a superior algorithm with less data”** – (Andrew Ng)\n",
    "\n",
    "**“More data beats better algorithms but better data beats more data”**\n"
   ]
  },
  {
   "cell_type": "markdown",
   "id": "b6c31415-0e6b-4222-a2e3-940c2f2e7457",
   "metadata": {},
   "source": [
    "<!--NAVIGATION-->\n",
    "<br>\n",
    "\n",
    "<[ [DSPM - Process Definition](06.00-dspm-DSPM-Process-Definition.ipynb) | [Contents and Acronyms](00.00-dspm-Contents-and-Acronyms.ipynb) | [References](08.00-dspm-References.ipynb) ]>"
   ]
  }
 ],
 "metadata": {
  "kernelspec": {
   "display_name": "Python 3",
   "language": "python",
   "name": "python3"
  },
  "language_info": {
   "codemirror_mode": {
    "name": "ipython",
    "version": 3
   },
   "file_extension": ".py",
   "mimetype": "text/x-python",
   "name": "python",
   "nbconvert_exporter": "python",
   "pygments_lexer": "ipython3",
   "version": "3.8.8"
  }
 },
 "nbformat": 4,
 "nbformat_minor": 5
}
