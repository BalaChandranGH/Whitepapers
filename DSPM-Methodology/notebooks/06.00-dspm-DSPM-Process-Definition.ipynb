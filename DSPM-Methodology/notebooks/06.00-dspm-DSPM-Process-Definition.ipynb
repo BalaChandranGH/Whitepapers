{
 "cells": [
  {
   "cell_type": "markdown",
   "id": "9c389aed-0036-4c50-8b03-61d6fd3ffb26",
   "metadata": {},
   "source": [
    "<!--BOOK_INFORMATION-->\n",
    "<img align=\"left\" style=\"padding-right:10px;\" src=\"figures/DSPM-Book-Cover-Small.png\"><br>\n",
    "\n",
    "This notebook contains an excerpt from the **`Data Science Project Management Methodology - A Guideline for Beginners`** whitepaper written by *Balasubramanian Chandran*; the content is available [on GitHub](https://github.com/BalaChandranGH/Whitepapers/DSPM-Methodology)."
   ]
  },
  {
   "cell_type": "markdown",
   "id": "2fab84ce-6366-45ec-846e-ef98dda358d0",
   "metadata": {},
   "source": [
    "<!--NAVIGATION-->\n",
    "\n",
    "<[ [DSPM - Stages](05.00-dspm-DSPM-Stages.ipynb) | [Contents and Acronyms](00.00-dspm-Contents-and-Acronyms.ipynb) | [Summary](07.00-dspm-Summary.ipynb) ]>"
   ]
  },
  {
   "cell_type": "markdown",
   "id": "4073e8b0-b92c-4672-9fce-e3c937f041d5",
   "metadata": {},
   "source": [
    "# 6. DSPM Process Definition"
   ]
  },
  {
   "cell_type": "markdown",
   "id": "f1c7b18f-0009-4aca-88d8-5358c6b5b4dd",
   "metadata": {},
   "source": [
    "![](figures/DSPM-ProcessDefinition.png)"
   ]
  },
  {
   "cell_type": "markdown",
   "id": "da8ed6cd-4a4b-469b-ae4b-f3fad2a908c6",
   "metadata": {},
   "source": [
    "## 6.1. Role Definitions"
   ]
  },
  {
   "cell_type": "markdown",
   "id": "e4b0b348-bf0a-47a0-abd6-33cc5d36e1fe",
   "metadata": {},
   "source": [
    "The roles mentioned in the “DSPM - Process Definition” and “DSPM – Stages” sections are indicative only. Depending on the size and the complexity of the projects, additional roles can be defined such as Data Architect, Data Analyst, Business Analyst, Business User, Project Lead, etc. If the size of the project/organization is small or the complexity is low, then the Data Scientist may play the unicorn role with the combined roles of ML Engineer, Data Engineer, Data Architect, Data Analyst, Project Manager, Project Lead & Solution Architect. Given below are the role definitions for a small to intermediate project size/complexity.\n",
    "\n",
    "**Project Manager:**\n",
    "* Lead the project from inception to a successful deployment\n",
    "* Project planning and execution, management of scope, budget, schedule, quality, communication, risk, and resource (people, h/w, s/w, etc.) \n",
    "* Produce project charter, training & monitoring plans, monitoring dashboard, project end report\n",
    "* Obtain business sign-off before deployment\n",
    "\n",
    "**Solution Architect:**\n",
    "* Produce End-to-End solution architecture\n",
    "* Develop data pipelines\n",
    "* Deploy the validated model and the developed data pipelines into production\n",
    "\n",
    "**Data Scientist:**\n",
    "* Clearly define the business problems \n",
    "* Convert business problems into analytical problems that the ML team can solve\n",
    "* Select the project methodology and lead the overall research stage\n",
    "* Select the evaluation metrics with reasons\n",
    "* Review the evaluation metrics produced by the ML Engineer at all stages and take actions\n",
    "* Involve in all the stages of the project and ensure the overall success of the project\n",
    "* Produce deployment plan\n",
    "\n",
    "**Data Engineer:**\n",
    "* Identify data sources and data environments\n",
    "* Collect raw datasets and their metadata\n",
    "* Produce raw data summary report\n",
    "* Perform Exploratory Data Analysis (EDA)\n",
    "* Produce an EDA report\n",
    "\n",
    "**ML Engineer:**\n",
    "* Perform data preprocessing activities such as data cleaning and formatting, data transformations, feature selection, feature engineering, and splitting datasets into train-test datasets\n",
    "* Produce preprocessed datasets and their metadata\n",
    "* Produce preprocessed data summary report\n",
    "* Develop, train, refine, evaluate, and select the final model\n",
    "* Produce evaluation metrics at all stages of the model development\n",
    "\n",
    "**Business Team:**\n",
    "* This team involves the business sponsor, business users, and business analysts\n",
    "* identify business problems\n",
    "* Perform UAT (and A/B test) and validate the final model\n",
    "* Produce UAT (and A/B test) reports"
   ]
  },
  {
   "cell_type": "markdown",
   "id": "88ffecfc-6bee-41e9-a21b-4a156035c844",
   "metadata": {},
   "source": [
    "Depending on the organization’s expectation on process orientation and documentation, the project teams can decide what templates and artifacts to create, maintain, and deliver. Following is a list of some of the key artifacts that the project teams can produce and deliver.\n",
    "\n",
    "1. Project plan\n",
    "2. Project kick-off checklist\n",
    "3. RASCI matrix (Responsible, Accountable, Supportive, Consulted, Informed)\n",
    "4. Project status reports (one for every frequency – daily, weekly, monthly, etc.)\n",
    "5. RAID Log (Risks, Assumptions, Issues, Dependencies)\n",
    "6. Roles and Responsibilities (Project manager, Data scientist, Data engineer, ML engineer, etc.)\n",
    "7. Role competency matrix (RCM)\n",
    "8. Change management register\n",
    "9. Development guideline (Coding standard)\n",
    "10. Test strategy\n",
    "11. Minutes of meeting (MoM)\n",
    "12. Business continuity plan (BCP)"
   ]
  },
  {
   "cell_type": "markdown",
   "id": "b6c31415-0e6b-4222-a2e3-940c2f2e7457",
   "metadata": {},
   "source": [
    "<!--NAVIGATION-->\n",
    "<br>\n",
    "\n",
    "<[ [DSPM - Stages](05.00-dspm-DSPM-Stages.ipynb) | [Contents and Acronyms](00.00-dspm-Contents-and-Acronyms.ipynb) | [Summary](07.00-dspm-Summary.ipynb) ]>"
   ]
  }
 ],
 "metadata": {
  "kernelspec": {
   "display_name": "Python 3",
   "language": "python",
   "name": "python3"
  },
  "language_info": {
   "codemirror_mode": {
    "name": "ipython",
    "version": 3
   },
   "file_extension": ".py",
   "mimetype": "text/x-python",
   "name": "python",
   "nbconvert_exporter": "python",
   "pygments_lexer": "ipython3",
   "version": "3.8.8"
  }
 },
 "nbformat": 4,
 "nbformat_minor": 5
}
