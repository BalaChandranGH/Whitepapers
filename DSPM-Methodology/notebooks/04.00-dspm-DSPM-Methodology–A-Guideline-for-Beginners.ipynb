{
 "cells": [
  {
   "cell_type": "markdown",
   "id": "9c389aed-0036-4c50-8b03-61d6fd3ffb26",
   "metadata": {},
   "source": [
    "<!--BOOK_INFORMATION-->\n",
    "<img align=\"left\" style=\"padding-right:10px;\" src=\"figures/DSPM-Book-Cover-Small.png\"><br>\n",
    "\n",
    "This notebook contains an excerpt from the **`Data Science Project Management Methodology - A Guideline for Beginners`** whitepaper written by *Balasubramanian Chandran*; the content is available [on GitHub](https://github.com/BalaChandranGH/Whitepapers/DSPM-Methodology)."
   ]
  },
  {
   "cell_type": "markdown",
   "id": "2fab84ce-6366-45ec-846e-ef98dda358d0",
   "metadata": {},
   "source": [
    "<!--NAVIGATION-->\n",
    "\n",
    "<[ [Summary of existing PM Methodologies](03.00-dspm-Summary-of-existing-PM-Methodologies.ipynb) | [Contents and Acronyms](00.00-dspm-Contents-and-Acronyms.ipynb) | [DSPM - Stages](05.00-dspm-DSPM-Stages.ipynb) ]>"
   ]
  },
  {
   "cell_type": "markdown",
   "id": "4073e8b0-b92c-4672-9fce-e3c937f041d5",
   "metadata": {},
   "source": [
    "# 4. DSPM Methodology – A Guideline for Beginners"
   ]
  },
  {
   "cell_type": "markdown",
   "id": "6d5afdac-8820-49a4-b7fb-bbce7dea746e",
   "metadata": {},
   "source": [
    "_“Data science projects typically have a goal to identify correlations and causal relationships, classify and predict events, identify patterns and anomalies, and infer probabilities, interest, and sentiment… In the field of data science, there is no known “best” process to do a data science project.”_\n",
    "[Comparing Data Science Project Management Methodologies via a Controlled Experiment by Jeffrey S. Saltz, Ivan Shamshurin, and Kevin Crowston](https://core.ac.uk/download/pdf/77239583.pdf).\n",
    "\n",
    "Data science projects are not software development projects. They are predominantly data-driven that involve research to find, fine-tune, and use the algorithms rather than writing them (libraries & packages) on your own from scratch.\n",
    "\n",
    "The following diagram depicts a hybrid methodology that can be used to manage and deliver data science projects of any size. This methodology has 8 phases and each phase is given with some of the key activities and artifacts; however, all are not mandatory in every single project. These are provided as a guideline only. The project teams are free to add or omit some of these depending on the size and the complexity of the projects."
   ]
  },
  {
   "cell_type": "markdown",
   "id": "1ec9f767-d6da-446c-8b71-5c508dfd6e38",
   "metadata": {},
   "source": [
    "![](figures/DSPM-Methodology.png)"
   ]
  },
  {
   "cell_type": "markdown",
   "id": "b6c31415-0e6b-4222-a2e3-940c2f2e7457",
   "metadata": {},
   "source": [
    "<!--NAVIGATION-->\n",
    "<br>\n",
    "\n",
    "<[ [Summary of existing PM Methodologies](03.00-dspm-Summary-of-existing-PM-Methodologies.ipynb) | [Contents and Acronyms](00.00-dspm-Contents-and-Acronyms.ipynb) | [DSPM - Stages](05.00-dspm-DSPM-Stages.ipynb) ]>"
   ]
  }
 ],
 "metadata": {
  "kernelspec": {
   "display_name": "Python 3",
   "language": "python",
   "name": "python3"
  },
  "language_info": {
   "codemirror_mode": {
    "name": "ipython",
    "version": 3
   },
   "file_extension": ".py",
   "mimetype": "text/x-python",
   "name": "python",
   "nbconvert_exporter": "python",
   "pygments_lexer": "ipython3",
   "version": "3.8.8"
  }
 },
 "nbformat": 4,
 "nbformat_minor": 5
}
