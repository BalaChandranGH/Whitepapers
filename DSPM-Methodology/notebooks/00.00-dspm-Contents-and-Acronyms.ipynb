{
 "cells": [
  {
   "cell_type": "markdown",
   "id": "3e26664b-7138-4b76-b237-77b8efeed23f",
   "metadata": {},
   "source": [
    "# Data Science Project Management Methodology - A Guideline for Beginners \n",
    "#### Whitepaper by *Balasubramanian Chandran*"
   ]
  },
  {
   "cell_type": "markdown",
   "id": "51427c8b-bada-4dc7-a8e8-1939545a9c57",
   "metadata": {},
   "source": [
    "<img align=\"left\" style=\"padding-right:10px;\" src=\"figures/DSPM-Book-Cover.png\">"
   ]
  },
  {
   "cell_type": "markdown",
   "id": "52d30b5b-90b1-4b0f-bc60-15513b484ee2",
   "metadata": {},
   "source": [
    "This is the Jupyter notebook version of the **`Data Science Project Management Methodology - A Guideline for Beginners`** whitepaper written by *Balasubramanian Chandran*; the content is available [on GitHub](https://github.com/BalaChandranGH/Whitepapers/DSPM-Methodology)."
   ]
  },
  {
   "cell_type": "markdown",
   "id": "0921f2c4-ed66-419f-a7e3-105397edb6f1",
   "metadata": {},
   "source": [
    "# Table of Contents"
   ]
  },
  {
   "cell_type": "markdown",
   "id": "ca014d2a-1eba-4f96-bb7f-19b8bd5d4e8b",
   "metadata": {},
   "source": [
    "#### [0. Contents and Acronyms](00.00-dspm-Contents-and-Acronyms.ipynb)\n",
    "#### [1. The Abstract](01.00-dspm-The-Abstract.ipynb)\n",
    "#### [2. Introduction - Why DSPM is challenging?](02.00-dspm-Introduction-Why-DSPM-is-challenging.ipynb)\n",
    "    2.1. Conversion of Business problems into Analytics problems\n",
    "    2.2. Data availability\n",
    "    2.3. Data Quality\n",
    "    2.4. Data Pre-processing\n",
    "    2.5. Research and Experimentation\n",
    "#### [3. Summary of existing PM Methodologies](03.00-dspm-Summary-of-existing-PM-Methodologies.ipynb)\n",
    "#### [4. DSPM Methodology A Guideline for Beginners](04.00-dspm-DSPM-Methodology–A-Guideline-for-Beginners.ipynb)\n",
    "#### [5. DSPM Stages](05.00-dspm-DSPM-Stages.ipynb)\n",
    "#### [6. DSPM Process Definition](06.00-dspm-DSPM-Process-Definition.ipynb)\n",
    "    6.1. Role Definitions\n",
    "#### [7. Summary](07.00-dspm-Summary.ipynb)\n",
    "#### [8. References](08.00-dspm-References.ipynb)"
   ]
  },
  {
   "cell_type": "markdown",
   "id": "3b404e39-df4d-4c82-a26a-a5a05fbefa1e",
   "metadata": {},
   "source": [
    "# Acronyms\n",
    "```\n",
    "A/B testing - A way to compare two versions of the same app to figure out which performs better\n",
    "API         - Application Programming Interface\n",
    "BCP         - Business Continuity Plan\n",
    "CSV         - Comma Separated Values\n",
    "DS          - Data Science\n",
    "DSPM        - Data Science Project Management\n",
    "EDA         - Exploratory Data Analysis\n",
    "H/w         - Hardware\n",
    "ML          - Machine Learning\n",
    "MoM         - Minutes of Meeting\n",
    "PCA         - Principal Component Analysis\n",
    "RAID        - Risks Assumptions Issues Dependencies\n",
    "RASCI       - Responsible Accountable Supportive Consulted Informed\n",
    "RCM         - Role Competency Matrix\n",
    "S/w         - Software\n",
    "UAT         - User Acceptance Testing\n",
    "XML         - Extensible Markup Language\n",
    "```"
   ]
  }
 ],
 "metadata": {
  "kernelspec": {
   "display_name": "Python 3",
   "language": "python",
   "name": "python3"
  },
  "language_info": {
   "codemirror_mode": {
    "name": "ipython",
    "version": 3
   },
   "file_extension": ".py",
   "mimetype": "text/x-python",
   "name": "python",
   "nbconvert_exporter": "python",
   "pygments_lexer": "ipython3",
   "version": "3.8.8"
  }
 },
 "nbformat": 4,
 "nbformat_minor": 5
}
